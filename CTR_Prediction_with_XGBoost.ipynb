{
  "nbformat": 4,
  "nbformat_minor": 0,
  "metadata": {
    "colab": {
      "name": "CTR Prediction with XGBoost.ipynb",
      "provenance": [],
      "authorship_tag": "ABX9TyOEW5giLZu6EN4r/77wsLyB",
      "include_colab_link": true
    },
    "kernelspec": {
      "name": "python3",
      "display_name": "Python 3"
    }
  },
  "cells": [
    {
      "cell_type": "markdown",
      "metadata": {
        "id": "view-in-github",
        "colab_type": "text"
      },
      "source": [
        "<a href=\"https://colab.research.google.com/github/Jodiedata/CTR_Prediction_XGboost/blob/master/CTR_Prediction_with_XGBoost.ipynb\" target=\"_parent\"><img src=\"https://colab.research.google.com/assets/colab-badge.svg\" alt=\"Open In Colab\"/></a>"
      ]
    },
    {
      "cell_type": "markdown",
      "metadata": {
        "id": "1d8j38pVpI-s",
        "colab_type": "text"
      },
      "source": [
        "#Advertising Analytics CTR Prediction"
      ]
    },
    {
      "cell_type": "markdown",
      "metadata": {
        "id": "3ctNDLW7tQJN",
        "colab_type": "text"
      },
      "source": [
        "Let’s assume that we are designing an algorithm for a search engine, and the task is to maximize revenue by displaying the best ads — ads that are both related to search results and are most likely to be clicked — at the top of the search results. How should we do it? <br>\n",
        "As we know, the expected revenue (cost * click-probability) for the one ad would be higher than that of the other one, even though its dollar-cost is lower, because there is a higher chance that the user will click the first ad. In other words, we can look at the problem of maximizing revenue in terms of accurately predicting the probability that a given ad will be clicked i.e. “click-through rate” (CTR)."
      ]
    },
    {
      "cell_type": "markdown",
      "metadata": {
        "id": "DHegqCFWpeGc",
        "colab_type": "text"
      },
      "source": [
        "We will use the kaggle clicks data to build a model for CTR prediction. The links is here: https://www.kaggle.com/c/avazu-ctr-prediction/data"
      ]
    },
    {
      "cell_type": "markdown",
      "metadata": {
        "id": "qjkqrKun0UdI",
        "colab_type": "text"
      },
      "source": [
        "Our dataset comprises of the following features:\n",
        "\n",
        "id: ad identifier<br>\n",
        "click: 0 for non-click, 1 for click<br>\n",
        "hour: in the format of YYMMDDHH<br>\n",
        "C1: some anonymized categorical variable e.g. 1002<br>\n",
        "banner_pos: where a banner is located, 1 and 0<br>\n",
        "site_id: site identifier<br>\n",
        "site_domain: hashed site domain<br>\n",
        "site_category: hashed site category e.g. 28905ebd<br>\n",
        "app_id: mobile app identifier<br>\n",
        "app_domain<br>\n",
        "app_category<br>\n",
        "device_id: mobile device identifier<br>\n",
        "device_ip: IP address<br>\n",
        "device_model: hashed model e.g. iPhone 6, Samsung<br>\n",
        "device_type: hashed device type e.g. tablet, smartphone<br>\n",
        "device_conn_type: hashed type of connection e.g. Wi-Fi, 4G<br>\n",
        "C14-C21: some more anonymized categorical variables<br>"
      ]
    },
    {
      "cell_type": "markdown",
      "metadata": {
        "id": "isIWF4iHpppz",
        "colab_type": "text"
      },
      "source": [
        "#Content"
      ]
    },
    {
      "cell_type": "markdown",
      "metadata": {
        "id": "VsbmsUnYptcj",
        "colab_type": "text"
      },
      "source": [
        "* [Part 1: Data Exploration](#Part-1:-Data-Exploration)\n",
        "* [Part 2: Feature Preprocessing](#Part-2:-Feature-Preprocessing)\n",
        "* [Part 3: Model Training and Results Evaluation](#Part-3:-Model-Training-and-Result-Evaluation)\n",
        "* [Part 4: Feature Selection](#Part-4:-Feature-Selection)"
      ]
    },
    {
      "cell_type": "markdown",
      "metadata": {
        "id": "9NXEFrE6pyYB",
        "colab_type": "text"
      },
      "source": [
        "#Part 0. load packages, load data"
      ]
    },
    {
      "cell_type": "code",
      "metadata": {
        "id": "zo2xqjXQpzhn",
        "colab_type": "code",
        "colab": {
          "base_uri": "https://localhost:8080/",
          "height": 52
        },
        "outputId": "689c20bb-c5d9-4363-ad30-b18f35d29618"
      },
      "source": [
        "#import neccessary libraries\n",
        "import numpy as np\n",
        "import pandas as pd\n",
        "import sklearn as sl\n",
        "import sklearn.preprocessing as preprocessing\n",
        "from sklearn.model_selection import train_test_split\n",
        "import seaborn as sns\n",
        "import matplotlib.pyplot as plt\n",
        "from datetime import timedelta as timedelta\n",
        "pd.set_option('display.float_format', lambda x: '%.3f' % x)\n",
        "pd.set_option('display.max_columns',None)\n",
        "pd.set_option('display.max_rows',None)\n",
        "pd.set_option('max_colwidth',100)\n",
        "\n",
        "#A parse date variable to pass in the read_csv function later to take into account the date format \n",
        "parse_date = lambda val : pd.datetime.strptime(val, '%y%m%d%H')"
      ],
      "execution_count": null,
      "outputs": [
        {
          "output_type": "stream",
          "text": [
            "/usr/local/lib/python3.6/dist-packages/statsmodels/tools/_testing.py:19: FutureWarning: pandas.util.testing is deprecated. Use the functions in the public API at pandas.testing instead.\n",
            "  import pandas.util.testing as tm\n"
          ],
          "name": "stderr"
        }
      ]
    },
    {
      "cell_type": "code",
      "metadata": {
        "id": "lyOsU9DBrQBn",
        "colab_type": "code",
        "colab": {
          "base_uri": "https://localhost:8080/",
          "height": 125
        },
        "outputId": "bb0e5801-8c58-48f3-ea83-4bb38657b8fb"
      },
      "source": [
        "from google.colab import drive\n",
        "drive.mount('/content/drive')"
      ],
      "execution_count": null,
      "outputs": [
        {
          "output_type": "stream",
          "text": [
            "Go to this URL in a browser: https://accounts.google.com/o/oauth2/auth?client_id=947318989803-6bn6qk8qdgf4n4g3pfee6491hc0brc4i.apps.googleusercontent.com&redirect_uri=urn%3aietf%3awg%3aoauth%3a2.0%3aoob&response_type=code&scope=email%20https%3a%2f%2fwww.googleapis.com%2fauth%2fdocs.test%20https%3a%2f%2fwww.googleapis.com%2fauth%2fdrive%20https%3a%2f%2fwww.googleapis.com%2fauth%2fdrive.photos.readonly%20https%3a%2f%2fwww.googleapis.com%2fauth%2fpeopleapi.readonly\n",
            "\n",
            "Enter your authorization code:\n",
            "··········\n",
            "Mounted at /content/drive\n"
          ],
          "name": "stdout"
        }
      ]
    },
    {
      "cell_type": "code",
      "metadata": {
        "id": "fQiATB7orSQQ",
        "colab_type": "code",
        "colab": {
          "base_uri": "https://localhost:8080/",
          "height": 638
        },
        "outputId": "9f033950-2bbb-49b7-c8ed-5b0911de174d"
      },
      "source": [
        "# A sample dataset of 100k lines.\n",
        "!ls '/content/drive/My Drive/filtered_train'\n",
        "\n",
        "df = pd.read_csv('/content/drive/My Drive/filtered_train.csv', parse_dates = ['hour'], date_parser = parse_date)\n",
        "\n",
        "df.info()\n",
        "\n",
        "df_clicks = df[df['click']==1]"
      ],
      "execution_count": null,
      "outputs": [
        {
          "output_type": "stream",
          "text": [
            "ls: cannot access '/content/drive/My Drive/filtered_train': No such file or directory\n"
          ],
          "name": "stdout"
        },
        {
          "output_type": "stream",
          "text": [
            "/usr/local/lib/python3.6/dist-packages/ipykernel_launcher.py:16: FutureWarning: The pandas.datetime class is deprecated and will be removed from pandas in a future version. Import from datetime instead.\n",
            "  app.launch_new_instance()\n"
          ],
          "name": "stderr"
        },
        {
          "output_type": "stream",
          "text": [
            "<class 'pandas.core.frame.DataFrame'>\n",
            "RangeIndex: 404290 entries, 0 to 404289\n",
            "Data columns (total 25 columns):\n",
            " #   Column            Non-Null Count   Dtype         \n",
            "---  ------            --------------   -----         \n",
            " 0   Unnamed: 0        404290 non-null  int64         \n",
            " 1   id                404290 non-null  float64       \n",
            " 2   click             404290 non-null  int64         \n",
            " 3   hour              404290 non-null  datetime64[ns]\n",
            " 4   C1                404290 non-null  int64         \n",
            " 5   banner_pos        404290 non-null  int64         \n",
            " 6   site_id           404290 non-null  object        \n",
            " 7   site_domain       404290 non-null  object        \n",
            " 8   site_category     404290 non-null  object        \n",
            " 9   app_id            404290 non-null  object        \n",
            " 10  app_domain        404290 non-null  object        \n",
            " 11  app_category      404290 non-null  object        \n",
            " 12  device_id         404290 non-null  object        \n",
            " 13  device_ip         404290 non-null  object        \n",
            " 14  device_model      404290 non-null  object        \n",
            " 15  device_type       404290 non-null  int64         \n",
            " 16  device_conn_type  404290 non-null  int64         \n",
            " 17  C14               404290 non-null  int64         \n",
            " 18  C15               404290 non-null  int64         \n",
            " 19  C16               404290 non-null  int64         \n",
            " 20  C17               404290 non-null  int64         \n",
            " 21  C18               404290 non-null  int64         \n",
            " 22  C19               404290 non-null  int64         \n",
            " 23  C20               404290 non-null  int64         \n",
            " 24  C21               404290 non-null  int64         \n",
            "dtypes: datetime64[ns](1), float64(1), int64(14), object(9)\n",
            "memory usage: 77.1+ MB\n"
          ],
          "name": "stdout"
        }
      ]
    },
    {
      "cell_type": "markdown",
      "metadata": {
        "id": "6HhEmuHKGFN0",
        "colab_type": "text"
      },
      "source": [
        "#Check missing values"
      ]
    },
    {
      "cell_type": "code",
      "metadata": {
        "id": "80dXhk2nGH0G",
        "colab_type": "code",
        "colab": {
          "base_uri": "https://localhost:8080/",
          "height": 459
        },
        "outputId": "1e26f1ba-ffb1-40d2-b152-bddce111ceca"
      },
      "source": [
        "df.isnull().sum()"
      ],
      "execution_count": null,
      "outputs": [
        {
          "output_type": "execute_result",
          "data": {
            "text/plain": [
              "Unnamed: 0          0\n",
              "id                  0\n",
              "click               0\n",
              "hour                0\n",
              "C1                  0\n",
              "banner_pos          0\n",
              "site_id             0\n",
              "site_domain         0\n",
              "site_category       0\n",
              "app_id              0\n",
              "app_domain          0\n",
              "app_category        0\n",
              "device_id           0\n",
              "device_ip           0\n",
              "device_model        0\n",
              "device_type         0\n",
              "device_conn_type    0\n",
              "C14                 0\n",
              "C15                 0\n",
              "C16                 0\n",
              "C17                 0\n",
              "C18                 0\n",
              "C19                 0\n",
              "C20                 0\n",
              "C21                 0\n",
              "dtype: int64"
            ]
          },
          "metadata": {
            "tags": []
          },
          "execution_count": 7
        }
      ]
    },
    {
      "cell_type": "markdown",
      "metadata": {
        "id": "hIfDGtD1GXOW",
        "colab_type": "text"
      },
      "source": [
        "we don't need to worry about dealing missing data here."
      ]
    },
    {
      "cell_type": "markdown",
      "metadata": {
        "id": "HcFgb4AYuQUe",
        "colab_type": "text"
      },
      "source": [
        "#Part 1. Exploratory Data Analysis and Data Visualization"
      ]
    },
    {
      "cell_type": "markdown",
      "metadata": {
        "id": "Jy7K-dkYrhPA",
        "colab_type": "text"
      },
      "source": [
        "##Overview"
      ]
    },
    {
      "cell_type": "code",
      "metadata": {
        "id": "yClxhinDrpKx",
        "colab_type": "code",
        "colab": {
          "base_uri": "https://localhost:8080/",
          "height": 585
        },
        "outputId": "d6d0af76-2e61-4427-8b29-9ff4bc9605e5"
      },
      "source": [
        "df.info()"
      ],
      "execution_count": null,
      "outputs": [
        {
          "output_type": "stream",
          "text": [
            "<class 'pandas.core.frame.DataFrame'>\n",
            "RangeIndex: 404290 entries, 0 to 404289\n",
            "Data columns (total 25 columns):\n",
            " #   Column            Non-Null Count   Dtype         \n",
            "---  ------            --------------   -----         \n",
            " 0   Unnamed: 0        404290 non-null  int64         \n",
            " 1   id                404290 non-null  float64       \n",
            " 2   click             404290 non-null  int64         \n",
            " 3   hour              404290 non-null  datetime64[ns]\n",
            " 4   C1                404290 non-null  int64         \n",
            " 5   banner_pos        404290 non-null  int64         \n",
            " 6   site_id           404290 non-null  object        \n",
            " 7   site_domain       404290 non-null  object        \n",
            " 8   site_category     404290 non-null  object        \n",
            " 9   app_id            404290 non-null  object        \n",
            " 10  app_domain        404290 non-null  object        \n",
            " 11  app_category      404290 non-null  object        \n",
            " 12  device_id         404290 non-null  object        \n",
            " 13  device_ip         404290 non-null  object        \n",
            " 14  device_model      404290 non-null  object        \n",
            " 15  device_type       404290 non-null  int64         \n",
            " 16  device_conn_type  404290 non-null  int64         \n",
            " 17  C14               404290 non-null  int64         \n",
            " 18  C15               404290 non-null  int64         \n",
            " 19  C16               404290 non-null  int64         \n",
            " 20  C17               404290 non-null  int64         \n",
            " 21  C18               404290 non-null  int64         \n",
            " 22  C19               404290 non-null  int64         \n",
            " 23  C20               404290 non-null  int64         \n",
            " 24  C21               404290 non-null  int64         \n",
            "dtypes: datetime64[ns](1), float64(1), int64(14), object(9)\n",
            "memory usage: 77.1+ MB\n"
          ],
          "name": "stdout"
        }
      ]
    },
    {
      "cell_type": "code",
      "metadata": {
        "id": "O2vqH_30rjx5",
        "colab_type": "code",
        "colab": {
          "base_uri": "https://localhost:8080/",
          "height": 532
        },
        "outputId": "46a4b368-23c4-467c-978c-1c49c8a6ae12"
      },
      "source": [
        "print(df.head())\n",
        "print (\"Num of rows: \" + str(df.shape[0])) # row count\n",
        "print (\"Num of columns: \" + str(df.shape[1])) # col count"
      ],
      "execution_count": null,
      "outputs": [
        {
          "output_type": "stream",
          "text": [
            "   Unnamed: 0                       id  click                hour    C1  \\\n",
            "0      128037 11074508552284608512.000      0 2014-10-21 01:00:00  1005   \n",
            "1      491755 12400122415769847808.000      0 2014-10-21 03:00:00  1005   \n",
            "2      470924 10598011031664306176.000      0 2014-10-21 03:00:00  1005   \n",
            "3      791624  1844218567631500288.000      0 2014-10-21 04:00:00  1005   \n",
            "4      491263 12360159177072531456.000      1 2014-10-21 03:00:00  1005   \n",
            "\n",
            "   banner_pos   site_id site_domain site_category    app_id app_domain  \\\n",
            "0           1  e151e245    7e091613      f028772b  ecad2386   7801e8d9   \n",
            "1           0  1fbe01fe    f3845767      28905ebd  ecad2386   7801e8d9   \n",
            "2           1  d9750ee7    98572c79      f028772b  ecad2386   7801e8d9   \n",
            "3           1  856e6d3f    58a89a43      f028772b  ecad2386   7801e8d9   \n",
            "4           1  d9750ee7    98572c79      f028772b  ecad2386   7801e8d9   \n",
            "\n",
            "  app_category device_id device_ip device_model  device_type  \\\n",
            "0     07d7df22  a99f214a  10dcdfb1     88fe1d5d            1   \n",
            "1     07d7df22  a99f214a  9f351a94     3db9fde9            1   \n",
            "2     07d7df22  a99f214a  158aae2e     c144e605            1   \n",
            "3     07d7df22  a99f214a  87f758ac     0eb711ec            1   \n",
            "4     07d7df22  a99f214a  d55aa41c     3bd9e8e7            1   \n",
            "\n",
            "   device_conn_type    C14  C15  C16   C17  C18   C19     C20  C21  \n",
            "0                 0  20352  320   50  2333    0    39      -1  157  \n",
            "1                 0  15701  320   50  1722    0    35  100084   79  \n",
            "2                 0  17614  320   50  1993    2  1063      -1   33  \n",
            "3                 0  16208  320   50  1800    3   167  100075   23  \n",
            "4                 0  17614  320   50  1993    2  1063      -1   33  \n",
            "Num of rows: 404290\n",
            "Num of columns: 25\n"
          ],
          "name": "stdout"
        }
      ]
    },
    {
      "cell_type": "code",
      "metadata": {
        "id": "1x-nHRvCuWxO",
        "colab_type": "code",
        "colab": {
          "base_uri": "https://localhost:8080/",
          "height": 176
        },
        "outputId": "1cfce902-0921-448a-c3ae-69c3d6430216"
      },
      "source": [
        "df['click'].describe()"
      ],
      "execution_count": null,
      "outputs": [
        {
          "output_type": "execute_result",
          "data": {
            "text/plain": [
              "count   404290.000\n",
              "mean         0.170\n",
              "std          0.375\n",
              "min          0.000\n",
              "25%          0.000\n",
              "50%          0.000\n",
              "75%          0.000\n",
              "max          1.000\n",
              "Name: click, dtype: float64"
            ]
          },
          "metadata": {
            "tags": []
          },
          "execution_count": 44
        }
      ]
    },
    {
      "cell_type": "code",
      "metadata": {
        "id": "_5J4QwJ8rlBy",
        "colab_type": "code",
        "colab": {
          "base_uri": "https://localhost:8080/",
          "height": 331
        },
        "outputId": "7769f556-11f5-4a19-d1b4-6faef527af92"
      },
      "source": [
        "# Click v/s No click distribution\n",
        "df.groupby('click').size().plot(kind = 'bar')\n",
        "rows = df.shape[0]\n",
        "click_through_rate = df['click'].value_counts()/rows \n",
        "click_through_rate"
      ],
      "execution_count": null,
      "outputs": [
        {
          "output_type": "execute_result",
          "data": {
            "text/plain": [
              "0   0.830\n",
              "1   0.170\n",
              "Name: click, dtype: float64"
            ]
          },
          "metadata": {
            "tags": []
          },
          "execution_count": 46
        },
        {
          "output_type": "display_data",
          "data": {
            "image/png": "[encoded data removed]",
            "text/plain": [
              "<Figure size 432x288 with 1 Axes>"
            ]
          },
          "metadata": {
            "tags": [],
            "needs_background": "light"
          }
        }
      ]
    },
    {
      "cell_type": "markdown",
      "metadata": {
        "id": "uABMjZeYw_UR",
        "colab_type": "text"
      },
      "source": [
        "17% of the data is with click == 1, meaning 17% of the ads are clicked."
      ]
    },
    {
      "cell_type": "markdown",
      "metadata": {
        "id": "qHtPD6JG2izM",
        "colab_type": "text"
      },
      "source": [
        "##Histogram of categorical features"
      ]
    },
    {
      "cell_type": "code",
      "metadata": {
        "id": "vcZJTCEk5YxY",
        "colab_type": "code",
        "colab": {
          "base_uri": "https://localhost:8080/",
          "height": 834
        },
        "outputId": "77baa5f6-18b8-41d3-e854-346cdf79ba62"
      },
      "source": [
        "plt.hist(x='device_type',data=df, color = 'orange')\n",
        "plt.title('Histograms of device type before data processing')\n",
        "plt.xlabel('device type')\n",
        "plt.ylabel('count')\n",
        "plt.show()\n",
        "\n",
        "plt.hist(x='banner_pos',data=df, color = 'yellowgreen')\n",
        "plt.title('Histograms of banner position before data processing')\n",
        "plt.xlabel('banner position')\n",
        "plt.ylabel('count')\n",
        "plt.show()\n",
        "\n",
        "plt.hist(x='site_category',data=df, color = 'steelblue')\n",
        "plt.title('Histograms of site category before data processing')\n",
        "plt.xlabel('site category')\n",
        "plt.ylabel('count')\n",
        "plt.xticks([])\n",
        "plt.show()\n"
      ],
      "execution_count": null,
      "outputs": [
        {
          "output_type": "display_data",
          "data": {
            "image/png": "[encoded data removed]",
            "text/plain": [
              "<Figure size 432x288 with 1 Axes>"
            ]
          },
          "metadata": {
            "tags": [],
            "needs_background": "light"
          }
        },
        {
          "output_type": "display_data",
          "data": {
            "image/png": "[encoded data removed]",
            "text/plain": [
              "<Figure size 432x288 with 1 Axes>"
            ]
          },
          "metadata": {
            "tags": [],
            "needs_background": "light"
          }
        },
        {
          "output_type": "display_data",
          "data": {
            "image/png": "[encoded data removed]",
            "text/plain": [
              "<Figure size 432x288 with 1 Axes>"
            ]
          },
          "metadata": {
            "tags": [],
            "needs_background": "light"
          }
        }
      ]
    },
    {
      "cell_type": "markdown",
      "metadata": {
        "id": "XVMYC0VY7tAo",
        "colab_type": "text"
      },
      "source": [
        "We can see from the above graphs that the three categorical data is pretty skewed into several categories."
      ]
    },
    {
      "cell_type": "markdown",
      "metadata": {
        "id": "GEklYPw_8VMk",
        "colab_type": "text"
      },
      "source": [
        "##Click-throughs and CTR of different categories"
      ]
    },
    {
      "cell_type": "markdown",
      "metadata": {
        "id": "VNryrBJFIUiX",
        "colab_type": "text"
      },
      "source": [
        "Define a function to show the click by category and CTR by category for multiple categorical features."
      ]
    },
    {
      "cell_type": "code",
      "metadata": {
        "id": "VH1iqZ685QOW",
        "colab_type": "code",
        "colab": {
          "base_uri": "https://localhost:8080/",
          "height": 47
        },
        "outputId": "39dc5494-416f-4fdc-8877-653f256f5706"
      },
      "source": [
        "sub_df = pd.crosstab(index = df['device_type'], columns = df['click']).reset_index()\n",
        "sub_df.head()\n",
        "sub_df.loc[(sub_df[1]==0) & (sub_df[0]==0),:]"
      ],
      "execution_count": null,
      "outputs": [
        {
          "output_type": "execute_result",
          "data": {
            "text/html": [
              "<div>\n",
              "<style scoped>\n",
              "    .dataframe tbody tr th:only-of-type {\n",
              "        vertical-align: middle;\n",
              "    }\n",
              "\n",
              "    .dataframe tbody tr th {\n",
              "        vertical-align: top;\n",
              "    }\n",
              "\n",
              "    .dataframe thead th {\n",
              "        text-align: right;\n",
              "    }\n",
              "</style>\n",
              "<table border=\"1\" class=\"dataframe\">\n",
              "  <thead>\n",
              "    <tr style=\"text-align: right;\">\n",
              "      <th>click</th>\n",
              "      <th>device_type</th>\n",
              "      <th>0</th>\n",
              "      <th>1</th>\n",
              "    </tr>\n",
              "  </thead>\n",
              "  <tbody>\n",
              "  </tbody>\n",
              "</table>\n",
              "</div>"
            ],
            "text/plain": [
              "Empty DataFrame\n",
              "Columns: [device_type, 0, 1]\n",
              "Index: []"
            ]
          },
          "metadata": {
            "tags": []
          },
          "execution_count": 99
        }
      ]
    },
    {
      "cell_type": "code",
      "metadata": {
        "id": "xFYLhN4K86AE",
        "colab_type": "code",
        "colab": {}
      },
      "source": [
        "def show_graph(col):\n",
        "    sub_df = pd.crosstab(index = df[col], columns = df['click']).reset_index()\n",
        "    sub_df = sub_df.loc[(sub_df[1]!=0) & (sub_df[0]!=0),:]\n",
        "    sub_df['CTR'] = sub_df[1]/(sub_df[0]+sub_df[1])\n",
        "    sub_df[[0,1]].plot(kind='bar', stacked = True, figsize = (8,6))\n",
        "    #plt.figure(figsize=(10,10))\n",
        "    plt.title('Click by ' + col)\n",
        "    plt.xlabel(col)\n",
        "    plt.ylabel('count')\n",
        "    #plt.show()\n",
        "    print(sub_df[[col,'CTR']].sort_values(by='CTR',ascending = False).to_string(index = False))"
      ],
      "execution_count": null,
      "outputs": []
    },
    {
      "cell_type": "code",
      "metadata": {
        "id": "M__OEnf1IPWp",
        "colab_type": "code",
        "colab": {
          "base_uri": "https://localhost:8080/",
          "height": 490
        },
        "outputId": "174548a9-7a0a-491c-b2d5-5bfeed7b2d58"
      },
      "source": [
        "show_graph('device_type')"
      ],
      "execution_count": null,
      "outputs": [
        {
          "output_type": "stream",
          "text": [
            " device_type   CTR\n",
            "           0 0.217\n",
            "           1 0.169\n",
            "           4 0.095\n",
            "           5 0.085\n"
          ],
          "name": "stdout"
        },
        {
          "output_type": "display_data",
          "data": {
            "image/png": "[encoded data removed]",
            "text/plain": [
              "<Figure size 576x432 with 1 Axes>"
            ]
          },
          "metadata": {
            "tags": [],
            "needs_background": "light"
          }
        }
      ]
    },
    {
      "cell_type": "markdown",
      "metadata": {
        "id": "iZq8wccsLCdu",
        "colab_type": "text"
      },
      "source": [
        "If we compare the click ratios per device_type, we can see that there is a marked difference in the average click-through rate depending on device_type — highest click ratio is for device_type_0, 21.7%, and lowest is for device_type_5, 8.5%. This tells us that device_type is a good feature for predicting our target variable."
      ]
    },
    {
      "cell_type": "code",
      "metadata": {
        "id": "voczNoeKIcv4",
        "colab_type": "code",
        "colab": {
          "base_uri": "https://localhost:8080/",
          "height": 543
        },
        "outputId": "22be2d12-deb6-4bcf-fc51-d675f5256d0e"
      },
      "source": [
        "show_graph('banner_pos')"
      ],
      "execution_count": null,
      "outputs": [
        {
          "output_type": "stream",
          "text": [
            " banner_pos   CTR\n",
            "          7 0.318\n",
            "          3 0.250\n",
            "          1 0.183\n",
            "          4 0.174\n",
            "          0 0.165\n",
            "          2 0.108\n",
            "          5 0.105\n"
          ],
          "name": "stdout"
        },
        {
          "output_type": "display_data",
          "data": {
            "image/png": "[encoded data removed]",
            "text/plain": [
              "<Figure size 576x432 with 1 Axes>"
            ]
          },
          "metadata": {
            "tags": [],
            "needs_background": "light"
          }
        }
      ]
    },
    {
      "cell_type": "markdown",
      "metadata": {
        "id": "Mdx2J1F4LTXu",
        "colab_type": "text"
      },
      "source": [
        "Highest click ratio is for banner_position_7, 31.8%, and lowest is for banner_position_5, 10.5%.  Banner position with no click information has been excluded from this graph. This tells us that banner_position is a good feature for predicting our target variable."
      ]
    },
    {
      "cell_type": "code",
      "metadata": {
        "id": "_FST3Xa8IhLx",
        "colab_type": "code",
        "colab": {
          "base_uri": "https://localhost:8080/",
          "height": 710
        },
        "outputId": "f26caec9-02f9-4c3a-e197-8578e5112fd1"
      },
      "source": [
        "show_graph('site_category')"
      ],
      "execution_count": null,
      "outputs": [
        {
          "output_type": "stream",
          "text": [
            "site_category   CTR\n",
            "     dedf689d 0.509\n",
            "     5378d028 0.333\n",
            "     3e814130 0.281\n",
            "     42a36e14 0.243\n",
            "     28905ebd 0.209\n",
            "     f028772b 0.179\n",
            "     70fb0e29 0.171\n",
            "     50e219e0 0.129\n",
            "     c0dd3be3 0.120\n",
            "     75fa27f6 0.105\n",
            "     72722551 0.091\n",
            "     335d28a8 0.087\n",
            "     f66779e6 0.046\n",
            "     0569f928 0.037\n",
            "     8fd0aea4 0.027\n",
            "     76b2941d 0.021\n"
          ],
          "name": "stdout"
        },
        {
          "output_type": "display_data",
          "data": {
            "image/png": "[encoded data removed]",
            "text/plain": [
              "<Figure size 576x432 with 1 Axes>"
            ]
          },
          "metadata": {
            "tags": [],
            "needs_background": "light"
          }
        }
      ]
    },
    {
      "cell_type": "markdown",
      "metadata": {
        "id": "_tLsJr6cLrx8",
        "colab_type": "text"
      },
      "source": [
        "Highest click ratio is for site_category _dedf689d, 50.9%, and lowest is for banner_position_76b2941d, 2.1%. Site category with no click information has been excluded from this graph. This tells us that banner_position is a good feature for predicting our target variable.<br>\n"
      ]
    },
    {
      "cell_type": "code",
      "metadata": {
        "id": "Cvc8hX4J4Tmp",
        "colab_type": "code",
        "colab": {
          "base_uri": "https://localhost:8080/",
          "height": 726
        },
        "outputId": "946055d0-a7d0-402f-a144-b487d68cf430"
      },
      "source": [
        "show_graph('app_category')"
      ],
      "execution_count": null,
      "outputs": [
        {
          "output_type": "stream",
          "text": [
            "app_category   CTR\n",
            "    f95efa07 0.245\n",
            "    8df2e842 0.238\n",
            "    0f9a328c 0.208\n",
            "    07d7df22 0.199\n",
            "    4ce2e9fc 0.172\n",
            "    09481d60 0.157\n",
            "    dc97ec06 0.155\n",
            "    d1327cf5 0.123\n",
            "    879c24eb 0.117\n",
            "    0f2161f8 0.107\n",
            "    75d80bbe 0.103\n",
            "    4681bb9d 0.096\n",
            "    cef3e649 0.093\n",
            "    8ded1f7a 0.092\n",
            "    a86a3e89 0.053\n",
            "    fc6fa53d 0.052\n",
            "    a3c42688 0.047\n"
          ],
          "name": "stdout"
        },
        {
          "output_type": "display_data",
          "data": {
            "image/png": "[encoded data removed]",
            "text/plain": [
              "<Figure size 576x432 with 1 Axes>"
            ]
          },
          "metadata": {
            "tags": [],
            "needs_background": "light"
          }
        }
      ]
    },
    {
      "cell_type": "markdown",
      "metadata": {
        "id": "wgPvoNu5595y",
        "colab_type": "text"
      },
      "source": [
        "Highest click ratio is for app_category _f95efa07, 24.5%, and lowest is for banner_position_a3c42688, 4.7%. App category with no click information has been excluded from this graph. This tells us that app_position is a good feature for predicting our target variable.<br>\n"
      ]
    },
    {
      "cell_type": "markdown",
      "metadata": {
        "id": "UKF0j93jsFa0",
        "colab_type": "text"
      },
      "source": [
        "##Date time features"
      ]
    },
    {
      "cell_type": "code",
      "metadata": {
        "id": "GbUuW1s4sH1N",
        "colab_type": "code",
        "colab": {
          "base_uri": "https://localhost:8080/",
          "height": 141
        },
        "outputId": "136ee88f-d9b0-45c6-b568-700f9df07dfd"
      },
      "source": [
        "df['hour'].describe()"
      ],
      "execution_count": null,
      "outputs": [
        {
          "output_type": "execute_result",
          "data": {
            "text/plain": [
              "count                  404290\n",
              "unique                    240\n",
              "top       2014-10-22 09:00:00\n",
              "freq                     4457\n",
              "first     2014-10-21 00:00:00\n",
              "last      2014-10-30 23:00:00\n",
              "Name: hour, dtype: object"
            ]
          },
          "metadata": {
            "tags": []
          },
          "execution_count": 47
        }
      ]
    },
    {
      "cell_type": "code",
      "metadata": {
        "id": "eI-j4g5SxRt7",
        "colab_type": "code",
        "colab": {
          "base_uri": "https://localhost:8080/",
          "height": 368
        },
        "outputId": "ce4b9de6-2516-45d2-8153-bf85f110a138"
      },
      "source": [
        "#Plot the click by hour of each day\n",
        "click_by_day = df[['hour','click']]\n",
        "click_by_day = click_by_day.groupby('hour').sum().reset_index()\n",
        "click_by_day.columns = ['hour_of_day','click']\n",
        "plt.figure(figsize=(15,5))\n",
        "sns.lineplot(x='hour_of_day', y='click', data=click_by_day)\n",
        "plt.title('Clicks by hour of each day')\n",
        "#xlabel = click_by_hour['hour'].apply(lambda x: x.date())\n",
        "#plt.xlabel(xlabel)"
      ],
      "execution_count": null,
      "outputs": [
        {
          "output_type": "execute_result",
          "data": {
            "text/plain": [
              "Text(0.5, 1.0, 'Clicks by hour of each day')"
            ]
          },
          "metadata": {
            "tags": []
          },
          "execution_count": 89
        },
        {
          "output_type": "display_data",
          "data": {
            "image/png": "[encoded data removed]",
            "text/plain": [
              "<Figure size 1080x360 with 1 Axes>"
            ]
          },
          "metadata": {
            "tags": [],
            "needs_background": "light"
          }
        }
      ]
    },
    {
      "cell_type": "markdown",
      "metadata": {
        "id": "lFt_Am4OsENU",
        "colab_type": "text"
      },
      "source": [
        "The hourly clicks pattern looks pretty similar every day. However, there were a couple of peak hours, one is sometime in the mid of the day on Oct 22, and another is sometime in the mid of the day on Oct 28. And one very low click hour is close to mid-night on Oct 24."
      ]
    },
    {
      "cell_type": "code",
      "metadata": {
        "id": "6M2Pyuat22dI",
        "colab_type": "code",
        "colab": {
          "base_uri": "https://localhost:8080/",
          "height": 367
        },
        "outputId": "e1a3b03b-ae27-4d95-ed59-a17a783d6d85"
      },
      "source": [
        "#Plot the click by hour (aggregated by day)\n",
        "click_by_hour = click_by_day.copy()\n",
        "click_by_hour['hour'] = click_by_hour['hour_of_day'].apply(lambda x: x.hour)\n",
        "#click_by_hour.columns = ['hour','click']\n",
        "plt.figure(figsize=(15,5))\n",
        "sns.lineplot(x='hour', y='click', data=click_by_hour)\n",
        "plt.title('Clicks by hour')"
      ],
      "execution_count": null,
      "outputs": [
        {
          "output_type": "execute_result",
          "data": {
            "text/plain": [
              "Text(0.5, 1.0, 'Clicks by hour')"
            ]
          },
          "metadata": {
            "tags": []
          },
          "execution_count": 93
        },
        {
          "output_type": "display_data",
          "data": {
            "image/png": "[encoded data removed]",
            "text/plain": [
              "<Figure size 1080x360 with 1 Axes>"
            ]
          },
          "metadata": {
            "tags": [],
            "needs_background": "light"
          }
        }
      ]
    },
    {
      "cell_type": "markdown",
      "metadata": {
        "id": "ea246tuH33Ca",
        "colab_type": "text"
      },
      "source": [
        "In general, the clicks increase in the morning and decrease till the midnight. The highest clicks are at 12pm or 1pm, and the lowest clicks are at 0am. "
      ]
    },
    {
      "cell_type": "code",
      "metadata": {
        "id": "bLCmX9tj6mhc",
        "colab_type": "code",
        "colab": {
          "base_uri": "https://localhost:8080/",
          "height": 852
        },
        "outputId": "0405d2b1-0b65-416f-9d48-0b64367bab7d"
      },
      "source": [
        "df['hour_'] = df['hour'].apply(lambda x: x.hour)\n",
        "show_graph('hour_')"
      ],
      "execution_count": null,
      "outputs": [
        {
          "output_type": "stream",
          "text": [
            " hour_   CTR\n",
            "    15 0.184\n",
            "     0 0.184\n",
            "     1 0.182\n",
            "     7 0.180\n",
            "    16 0.177\n",
            "    17 0.175\n",
            "    14 0.175\n",
            "    23 0.174\n",
            "    12 0.174\n",
            "     2 0.174\n",
            "     3 0.173\n",
            "     6 0.172\n",
            "    11 0.172\n",
            "    18 0.167\n",
            "    13 0.167\n",
            "    22 0.163\n",
            "     5 0.163\n",
            "     4 0.163\n",
            "    21 0.162\n",
            "    20 0.162\n",
            "     8 0.161\n",
            "    10 0.161\n",
            "    19 0.159\n",
            "     9 0.158\n"
          ],
          "name": "stdout"
        },
        {
          "output_type": "display_data",
          "data": {
            "image/png": "[encoded data removed]",
            "text/plain": [
              "<Figure size 576x432 with 1 Axes>"
            ]
          },
          "metadata": {
            "tags": [],
            "needs_background": "light"
          }
        }
      ]
    },
    {
      "cell_type": "code",
      "metadata": {
        "id": "L6euO5o0_IIh",
        "colab_type": "code",
        "colab": {
          "base_uri": "https://localhost:8080/",
          "height": 367
        },
        "outputId": "aee1ca08-0310-45b3-c805-104390596002"
      },
      "source": [
        "#Clicks of week days\n",
        "click_by_week = click_by_day.copy()\n",
        "click_by_week['hour'] = click_by_week['hour_of_day'].apply(lambda x: x.dayofweek)\n",
        "days_dic={0:'Mon',1:'Tue',2:'Wed',3:'Thur',4:'Fri',5:'Sat',6:'Sun'}\n",
        "click_by_week['hour'] = click_by_week['hour'].map(days_dic)\n",
        "plt.figure(figsize=(15,5))\n",
        "sns.lineplot(x='hour', y='click', data=click_by_week)\n",
        "plt.title('Clicks by weekday')"
      ],
      "execution_count": null,
      "outputs": [
        {
          "output_type": "execute_result",
          "data": {
            "text/plain": [
              "Text(0.5, 1.0, 'Clicks by weekday')"
            ]
          },
          "metadata": {
            "tags": []
          },
          "execution_count": 149
        },
        {
          "output_type": "display_data",
          "data": {
            "image/png": "[encoded data removed]",
            "text/plain": [
              "<Figure size 1080x360 with 1 Axes>"
            ]
          },
          "metadata": {
            "tags": [],
            "needs_background": "light"
          }
        }
      ]
    },
    {
      "cell_type": "code",
      "metadata": {
        "id": "dmv-FJh5E3V_",
        "colab_type": "code",
        "colab": {
          "base_uri": "https://localhost:8080/",
          "height": 347
        },
        "outputId": "88d04aa2-6f1e-420f-9f35-94733e332e73"
      },
      "source": [
        "click_by_week.head(10)"
      ],
      "execution_count": null,
      "outputs": [
        {
          "output_type": "execute_result",
          "data": {
            "text/html": [
              "<div>\n",
              "<style scoped>\n",
              "    .dataframe tbody tr th:only-of-type {\n",
              "        vertical-align: middle;\n",
              "    }\n",
              "\n",
              "    .dataframe tbody tr th {\n",
              "        vertical-align: top;\n",
              "    }\n",
              "\n",
              "    .dataframe thead th {\n",
              "        text-align: right;\n",
              "    }\n",
              "</style>\n",
              "<table border=\"1\" class=\"dataframe\">\n",
              "  <thead>\n",
              "    <tr style=\"text-align: right;\">\n",
              "      <th></th>\n",
              "      <th>hour_of_day</th>\n",
              "      <th>click</th>\n",
              "      <th>hour</th>\n",
              "      <th>Impressions</th>\n",
              "    </tr>\n",
              "  </thead>\n",
              "  <tbody>\n",
              "    <tr>\n",
              "      <th>0</th>\n",
              "      <td>2014-10-21 00:00:00</td>\n",
              "      <td>215</td>\n",
              "      <td>Tue</td>\n",
              "      <td>1</td>\n",
              "    </tr>\n",
              "    <tr>\n",
              "      <th>1</th>\n",
              "      <td>2014-10-21 01:00:00</td>\n",
              "      <td>241</td>\n",
              "      <td>Tue</td>\n",
              "      <td>1</td>\n",
              "    </tr>\n",
              "    <tr>\n",
              "      <th>2</th>\n",
              "      <td>2014-10-21 02:00:00</td>\n",
              "      <td>318</td>\n",
              "      <td>Tue</td>\n",
              "      <td>1</td>\n",
              "    </tr>\n",
              "    <tr>\n",
              "      <th>3</th>\n",
              "      <td>2014-10-21 03:00:00</td>\n",
              "      <td>338</td>\n",
              "      <td>Tue</td>\n",
              "      <td>1</td>\n",
              "    </tr>\n",
              "    <tr>\n",
              "      <th>4</th>\n",
              "      <td>2014-10-21 04:00:00</td>\n",
              "      <td>393</td>\n",
              "      <td>Tue</td>\n",
              "      <td>1</td>\n",
              "    </tr>\n",
              "    <tr>\n",
              "      <th>5</th>\n",
              "      <td>2014-10-21 05:00:00</td>\n",
              "      <td>381</td>\n",
              "      <td>Tue</td>\n",
              "      <td>1</td>\n",
              "    </tr>\n",
              "    <tr>\n",
              "      <th>6</th>\n",
              "      <td>2014-10-21 06:00:00</td>\n",
              "      <td>410</td>\n",
              "      <td>Tue</td>\n",
              "      <td>1</td>\n",
              "    </tr>\n",
              "    <tr>\n",
              "      <th>7</th>\n",
              "      <td>2014-10-21 07:00:00</td>\n",
              "      <td>352</td>\n",
              "      <td>Tue</td>\n",
              "      <td>1</td>\n",
              "    </tr>\n",
              "    <tr>\n",
              "      <th>8</th>\n",
              "      <td>2014-10-21 08:00:00</td>\n",
              "      <td>352</td>\n",
              "      <td>Tue</td>\n",
              "      <td>1</td>\n",
              "    </tr>\n",
              "    <tr>\n",
              "      <th>9</th>\n",
              "      <td>2014-10-21 09:00:00</td>\n",
              "      <td>369</td>\n",
              "      <td>Tue</td>\n",
              "      <td>1</td>\n",
              "    </tr>\n",
              "  </tbody>\n",
              "</table>\n",
              "</div>"
            ],
            "text/plain": [
              "          hour_of_day  click hour  Impressions\n",
              "0 2014-10-21 00:00:00    215  Tue            1\n",
              "1 2014-10-21 01:00:00    241  Tue            1\n",
              "2 2014-10-21 02:00:00    318  Tue            1\n",
              "3 2014-10-21 03:00:00    338  Tue            1\n",
              "4 2014-10-21 04:00:00    393  Tue            1\n",
              "5 2014-10-21 05:00:00    381  Tue            1\n",
              "6 2014-10-21 06:00:00    410  Tue            1\n",
              "7 2014-10-21 07:00:00    352  Tue            1\n",
              "8 2014-10-21 08:00:00    352  Tue            1\n",
              "9 2014-10-21 09:00:00    369  Tue            1"
            ]
          },
          "metadata": {
            "tags": []
          },
          "execution_count": 154
        }
      ]
    },
    {
      "cell_type": "code",
      "metadata": {
        "id": "PKvy3xUjEjuO",
        "colab_type": "code",
        "colab": {
          "base_uri": "https://localhost:8080/",
          "height": 474
        },
        "outputId": "b0c8393e-cf05-45e1-edbb-8a5ad5ad94fe"
      },
      "source": [
        "#Impression of week days\n",
        "click_by_week = df[['hour','click']]\n",
        "click_by_week['Impressions'] = 1\n",
        "click_by_week = click_by_week.groupby('hour').sum().reset_index()\n",
        "click_by_week['hour'] = click_by_week['hour'].apply(lambda x: x.dayofweek)\n",
        "days_dic={0:'Mon',1:'Tue',2:'Wed',3:'Thur',4:'Fri',5:'Sat',6:'Sun'}\n",
        "click_by_week['hour'] = click_by_week['hour'].map(days_dic)\n",
        "plt.figure(figsize=(15,5))\n",
        "sns.lineplot(x='hour', y='Impressions', data=click_by_week)\n",
        "plt.title('Impressions by weekday')"
      ],
      "execution_count": null,
      "outputs": [
        {
          "output_type": "stream",
          "text": [
            "/usr/local/lib/python3.6/dist-packages/ipykernel_launcher.py:3: SettingWithCopyWarning: \n",
            "A value is trying to be set on a copy of a slice from a DataFrame.\n",
            "Try using .loc[row_indexer,col_indexer] = value instead\n",
            "\n",
            "See the caveats in the documentation: https://pandas.pydata.org/pandas-docs/stable/user_guide/indexing.html#returning-a-view-versus-a-copy\n",
            "  This is separate from the ipykernel package so we can avoid doing imports until\n"
          ],
          "name": "stderr"
        },
        {
          "output_type": "execute_result",
          "data": {
            "text/plain": [
              "Text(0.5, 1.0, 'Impressions by weekday')"
            ]
          },
          "metadata": {
            "tags": []
          },
          "execution_count": 5
        },
        {
          "output_type": "display_data",
          "data": {
            "image/png": "[encoded data removed]",
            "text/plain": [
              "<Figure size 1080x360 with 1 Axes>"
            ]
          },
          "metadata": {
            "tags": [],
            "needs_background": "light"
          }
        }
      ]
    },
    {
      "cell_type": "markdown",
      "metadata": {
        "id": "gVaTXMnFDcs1",
        "colab_type": "text"
      },
      "source": [
        "Tuesdays have the most number of clicks and impressions, then Wednesdays, followed by Thursdays. Mondays and Fridays have the least number of clicks and impressions."
      ]
    },
    {
      "cell_type": "code",
      "metadata": {
        "id": "MGuAtWuEDlon",
        "colab_type": "code",
        "colab": {
          "base_uri": "https://localhost:8080/",
          "height": 543
        },
        "outputId": "69ce60ac-f121-4c75-d836-4d407b0910bd"
      },
      "source": [
        "df['week_day'] = df['hour'].apply(lambda x: x.dayofweek)\n",
        "days_dic={0:'Mon',1:'Tue',2:'Wed',3:'Thur',4:'Fri',5:'Sat',6:'Sun'}\n",
        "df['week_day']= df['week_day'].map(days_dic)\n",
        "show_graph('week_day')"
      ],
      "execution_count": null,
      "outputs": [
        {
          "output_type": "stream",
          "text": [
            "week_day   CTR\n",
            "     Sun 0.186\n",
            "     Sat 0.185\n",
            "     Mon 0.180\n",
            "    Thur 0.176\n",
            "     Fri 0.174\n",
            "     Tue 0.163\n",
            "     Wed 0.155\n"
          ],
          "name": "stdout"
        },
        {
          "output_type": "display_data",
          "data": {
            "image/png": "[encoded data removed]",
            "text/plain": [
              "<Figure size 576x432 with 1 Axes>"
            ]
          },
          "metadata": {
            "tags": [],
            "needs_background": "light"
          }
        }
      ]
    },
    {
      "cell_type": "markdown",
      "metadata": {
        "id": "hvD97yT9Fq8v",
        "colab_type": "text"
      },
      "source": [
        "Sunday has the highest CTR, followed by Saturday and Monday, though their impressions and clicks are not the highest."
      ]
    },
    {
      "cell_type": "markdown",
      "metadata": {
        "id": "0zb9JNJPMWnu",
        "colab_type": "text"
      },
      "source": [
        "##Correlation between features"
      ]
    },
    {
      "cell_type": "code",
      "metadata": {
        "id": "c-xin2K5FfD7",
        "colab_type": "code",
        "colab": {
          "base_uri": "https://localhost:8080/",
          "height": 366
        },
        "outputId": "f606ba54-536b-4af7-c464-5f3744e4adca"
      },
      "source": [
        "pearson = df.corr(method='pearson')\n",
        "# show heapmap of correlations\n",
        "sns.heatmap(pearson,cmap=\"YlGnBu\")"
      ],
      "execution_count": null,
      "outputs": [
        {
          "output_type": "execute_result",
          "data": {
            "text/plain": [
              "<matplotlib.axes._subplots.AxesSubplot at 0x7f2055118390>"
            ]
          },
          "metadata": {
            "tags": []
          },
          "execution_count": 148
        },
        {
          "output_type": "display_data",
          "data": {
            "image/png": "[encoded data removed]",
            "text/plain": [
              "<Figure size 432x288 with 2 Axes>"
            ]
          },
          "metadata": {
            "tags": [],
            "needs_background": "light"
          }
        }
      ]
    },
    {
      "cell_type": "markdown",
      "metadata": {
        "id": "f9CW-eY7udPQ",
        "colab_type": "text"
      },
      "source": [
        "(1)The highest correlation is between C1, banner_pos, and device_type. It makes a lot sense that the banner position and device type are highly correlated.<br>\n",
        "(2)We have negatively correlated variables - C18 and C21.<br>\n",
        "(3) C16 is highly correlated with our target variable click. banner position and C18 are relately highly correlated with click too.<br>\n",
        "(4)Id is not correlated with any of the features, which is what we expect to see.\n"
      ]
    },
    {
      "cell_type": "markdown",
      "metadata": {
        "id": "TUhuymjjF6r6",
        "colab_type": "text"
      },
      "source": [
        "#Part 2. Feature Engineering for XGboost and LightGBM model"
      ]
    },
    {
      "cell_type": "markdown",
      "metadata": {
        "id": "AqVzjm-2GefI",
        "colab_type": "text"
      },
      "source": [
        "##Hashing the categorical features"
      ]
    },
    {
      "cell_type": "code",
      "metadata": {
        "id": "lTViIGpKGs3C",
        "colab_type": "code",
        "colab": {}
      },
      "source": [
        "Convert categorical features to numerical features, it can minimize the memory consumption by the features."
      ],
      "execution_count": null,
      "outputs": []
    },
    {
      "cell_type": "code",
      "metadata": {
        "id": "pSNaKwxM45s4",
        "colab_type": "code",
        "colab": {
          "base_uri": "https://localhost:8080/",
          "height": 34
        },
        "outputId": "2e085a5a-16e8-47bf-fde7-438ce35098b7"
      },
      "source": [
        "click_by_week['hour'].dtypes"
      ],
      "execution_count": null,
      "outputs": [
        {
          "output_type": "execute_result",
          "data": {
            "text/plain": [
              "dtype('O')"
            ]
          },
          "metadata": {
            "tags": []
          },
          "execution_count": 6
        }
      ]
    },
    {
      "cell_type": "code",
      "metadata": {
        "id": "tKMblRWrFe_v",
        "colab_type": "code",
        "colab": {}
      },
      "source": [
        "def convert_obj_to_int(self):\n",
        "    \n",
        "    object_list_columns = self.columns\n",
        "    object_list_dtypes = self.dtypes\n",
        "    new_col_suffix = '_int'\n",
        "    for index in range(0,len(object_list_columns)):\n",
        "        if object_list_dtypes[index] != int:\n",
        "            self[object_list_columns[index]+new_col_suffix] = self[object_list_columns[index]].map( lambda  x: hash(x))\n",
        "            self.drop([object_list_columns[index]],inplace=True,axis=1)\n",
        "    return self\n",
        "    \n",
        "df_model = convert_obj_to_int(df)"
      ],
      "execution_count": null,
      "outputs": []
    },
    {
      "cell_type": "code",
      "metadata": {
        "id": "oB-vaQ8eHDQp",
        "colab_type": "code",
        "colab": {
          "base_uri": "https://localhost:8080/",
          "height": 384
        },
        "outputId": "423a737e-3298-4fbd-c46f-b7fd60d295d8"
      },
      "source": [
        "df_model.head(10)\n"
      ],
      "execution_count": null,
      "outputs": [
        {
          "output_type": "execute_result",
          "data": {
            "text/html": [
              "<div>\n",
              "<style scoped>\n",
              "    .dataframe tbody tr th:only-of-type {\n",
              "        vertical-align: middle;\n",
              "    }\n",
              "\n",
              "    .dataframe tbody tr th {\n",
              "        vertical-align: top;\n",
              "    }\n",
              "\n",
              "    .dataframe thead th {\n",
              "        text-align: right;\n",
              "    }\n",
              "</style>\n",
              "<table border=\"1\" class=\"dataframe\">\n",
              "  <thead>\n",
              "    <tr style=\"text-align: right;\">\n",
              "      <th></th>\n",
              "      <th>Unnamed: 0</th>\n",
              "      <th>click</th>\n",
              "      <th>C1</th>\n",
              "      <th>banner_pos</th>\n",
              "      <th>device_type</th>\n",
              "      <th>device_conn_type</th>\n",
              "      <th>C14</th>\n",
              "      <th>C15</th>\n",
              "      <th>C16</th>\n",
              "      <th>C17</th>\n",
              "      <th>C18</th>\n",
              "      <th>C19</th>\n",
              "      <th>C20</th>\n",
              "      <th>C21</th>\n",
              "      <th>id_int</th>\n",
              "      <th>hour_int</th>\n",
              "      <th>site_id_int</th>\n",
              "      <th>site_domain_int</th>\n",
              "      <th>site_category_int</th>\n",
              "      <th>app_id_int</th>\n",
              "      <th>app_domain_int</th>\n",
              "      <th>app_category_int</th>\n",
              "      <th>device_id_int</th>\n",
              "      <th>device_ip_int</th>\n",
              "      <th>device_model_int</th>\n",
              "    </tr>\n",
              "  </thead>\n",
              "  <tbody>\n",
              "    <tr>\n",
              "      <th>0</th>\n",
              "      <td>128037</td>\n",
              "      <td>0</td>\n",
              "      <td>1005</td>\n",
              "      <td>1</td>\n",
              "      <td>1</td>\n",
              "      <td>0</td>\n",
              "      <td>20352</td>\n",
              "      <td>320</td>\n",
              "      <td>50</td>\n",
              "      <td>2333</td>\n",
              "      <td>0</td>\n",
              "      <td>39</td>\n",
              "      <td>-1</td>\n",
              "      <td>157</td>\n",
              "      <td>1851136515429832708</td>\n",
              "      <td>-5504914308411718190</td>\n",
              "      <td>3313200183633152470</td>\n",
              "      <td>-4740863942945760051</td>\n",
              "      <td>5536396786171021463</td>\n",
              "      <td>-3557976943843515094</td>\n",
              "      <td>-4196694844799427527</td>\n",
              "      <td>7781118763427570549</td>\n",
              "      <td>-369447297597314522</td>\n",
              "      <td>-4585295244068350244</td>\n",
              "      <td>358576413308335100</td>\n",
              "    </tr>\n",
              "    <tr>\n",
              "      <th>1</th>\n",
              "      <td>491755</td>\n",
              "      <td>0</td>\n",
              "      <td>1005</td>\n",
              "      <td>0</td>\n",
              "      <td>1</td>\n",
              "      <td>0</td>\n",
              "      <td>15701</td>\n",
              "      <td>320</td>\n",
              "      <td>50</td>\n",
              "      <td>1722</td>\n",
              "      <td>0</td>\n",
              "      <td>35</td>\n",
              "      <td>100084</td>\n",
              "      <td>79</td>\n",
              "      <td>870907369701378053</td>\n",
              "      <td>6248454270083823517</td>\n",
              "      <td>-4982934931202804732</td>\n",
              "      <td>-6401314246411525770</td>\n",
              "      <td>9114451542737112072</td>\n",
              "      <td>-3557976943843515094</td>\n",
              "      <td>-4196694844799427527</td>\n",
              "      <td>7781118763427570549</td>\n",
              "      <td>-369447297597314522</td>\n",
              "      <td>-1601265454233218854</td>\n",
              "      <td>-413330847822570983</td>\n",
              "    </tr>\n",
              "    <tr>\n",
              "      <th>2</th>\n",
              "      <td>470924</td>\n",
              "      <td>0</td>\n",
              "      <td>1005</td>\n",
              "      <td>1</td>\n",
              "      <td>1</td>\n",
              "      <td>0</td>\n",
              "      <td>17614</td>\n",
              "      <td>320</td>\n",
              "      <td>50</td>\n",
              "      <td>1993</td>\n",
              "      <td>2</td>\n",
              "      <td>1063</td>\n",
              "      <td>-1</td>\n",
              "      <td>33</td>\n",
              "      <td>1374638994809530372</td>\n",
              "      <td>6248454270083823517</td>\n",
              "      <td>-1846540141553495697</td>\n",
              "      <td>459317138989523756</td>\n",
              "      <td>5536396786171021463</td>\n",
              "      <td>-3557976943843515094</td>\n",
              "      <td>-4196694844799427527</td>\n",
              "      <td>7781118763427570549</td>\n",
              "      <td>-369447297597314522</td>\n",
              "      <td>-7244720979837981716</td>\n",
              "      <td>689895388136294759</td>\n",
              "    </tr>\n",
              "    <tr>\n",
              "      <th>3</th>\n",
              "      <td>791624</td>\n",
              "      <td>0</td>\n",
              "      <td>1005</td>\n",
              "      <td>1</td>\n",
              "      <td>1</td>\n",
              "      <td>0</td>\n",
              "      <td>16208</td>\n",
              "      <td>320</td>\n",
              "      <td>50</td>\n",
              "      <td>1800</td>\n",
              "      <td>3</td>\n",
              "      <td>167</td>\n",
              "      <td>100075</td>\n",
              "      <td>23</td>\n",
              "      <td>1844218567631500288</td>\n",
              "      <td>-3652415584395688521</td>\n",
              "      <td>6284382993401260880</td>\n",
              "      <td>7654526404851795092</td>\n",
              "      <td>5536396786171021463</td>\n",
              "      <td>-3557976943843515094</td>\n",
              "      <td>-4196694844799427527</td>\n",
              "      <td>7781118763427570549</td>\n",
              "      <td>-369447297597314522</td>\n",
              "      <td>-6627780091908111748</td>\n",
              "      <td>-7638054607217932975</td>\n",
              "    </tr>\n",
              "    <tr>\n",
              "      <th>4</th>\n",
              "      <td>491263</td>\n",
              "      <td>1</td>\n",
              "      <td>1005</td>\n",
              "      <td>1</td>\n",
              "      <td>1</td>\n",
              "      <td>0</td>\n",
              "      <td>17614</td>\n",
              "      <td>320</td>\n",
              "      <td>50</td>\n",
              "      <td>1993</td>\n",
              "      <td>2</td>\n",
              "      <td>1063</td>\n",
              "      <td>-1</td>\n",
              "      <td>33</td>\n",
              "      <td>830944131004061701</td>\n",
              "      <td>6248454270083823517</td>\n",
              "      <td>-1846540141553495697</td>\n",
              "      <td>459317138989523756</td>\n",
              "      <td>5536396786171021463</td>\n",
              "      <td>-3557976943843515094</td>\n",
              "      <td>-4196694844799427527</td>\n",
              "      <td>7781118763427570549</td>\n",
              "      <td>-369447297597314522</td>\n",
              "      <td>-302178925910177771</td>\n",
              "      <td>5463420581279209704</td>\n",
              "    </tr>\n",
              "    <tr>\n",
              "      <th>5</th>\n",
              "      <td>836489</td>\n",
              "      <td>0</td>\n",
              "      <td>1005</td>\n",
              "      <td>1</td>\n",
              "      <td>1</td>\n",
              "      <td>0</td>\n",
              "      <td>16071</td>\n",
              "      <td>320</td>\n",
              "      <td>50</td>\n",
              "      <td>1784</td>\n",
              "      <td>2</td>\n",
              "      <td>175</td>\n",
              "      <td>100075</td>\n",
              "      <td>95</td>\n",
              "      <td>48387146170622978</td>\n",
              "      <td>-3652415584395688521</td>\n",
              "      <td>-3377829324121154603</td>\n",
              "      <td>8491856204138550781</td>\n",
              "      <td>5536396786171021463</td>\n",
              "      <td>-3557976943843515094</td>\n",
              "      <td>-4196694844799427527</td>\n",
              "      <td>7781118763427570549</td>\n",
              "      <td>-369447297597314522</td>\n",
              "      <td>-2676602350507982318</td>\n",
              "      <td>-8534614955488446281</td>\n",
              "    </tr>\n",
              "    <tr>\n",
              "      <th>6</th>\n",
              "      <td>371403</td>\n",
              "      <td>0</td>\n",
              "      <td>1005</td>\n",
              "      <td>0</td>\n",
              "      <td>1</td>\n",
              "      <td>0</td>\n",
              "      <td>21647</td>\n",
              "      <td>320</td>\n",
              "      <td>50</td>\n",
              "      <td>2487</td>\n",
              "      <td>1</td>\n",
              "      <td>547</td>\n",
              "      <td>-1</td>\n",
              "      <td>51</td>\n",
              "      <td>294034695527424001</td>\n",
              "      <td>-5688538096583776976</td>\n",
              "      <td>-7052432531362548359</td>\n",
              "      <td>1907092293102099262</td>\n",
              "      <td>9140304770713661246</td>\n",
              "      <td>-3557976943843515094</td>\n",
              "      <td>-4196694844799427527</td>\n",
              "      <td>7781118763427570549</td>\n",
              "      <td>-369447297597314522</td>\n",
              "      <td>-5755994773086828096</td>\n",
              "      <td>-6337595865414466446</td>\n",
              "    </tr>\n",
              "    <tr>\n",
              "      <th>7</th>\n",
              "      <td>73349</td>\n",
              "      <td>0</td>\n",
              "      <td>1005</td>\n",
              "      <td>0</td>\n",
              "      <td>1</td>\n",
              "      <td>2</td>\n",
              "      <td>18993</td>\n",
              "      <td>320</td>\n",
              "      <td>50</td>\n",
              "      <td>2161</td>\n",
              "      <td>0</td>\n",
              "      <td>35</td>\n",
              "      <td>-1</td>\n",
              "      <td>157</td>\n",
              "      <td>1293234696947051009</td>\n",
              "      <td>4240632564129425253</td>\n",
              "      <td>-1315251920760940429</td>\n",
              "      <td>-3584738422873482077</td>\n",
              "      <td>-505340801626743153</td>\n",
              "      <td>-8035372221721464921</td>\n",
              "      <td>-1108221301414773065</td>\n",
              "      <td>-8084641172719741920</td>\n",
              "      <td>-369447297597314522</td>\n",
              "      <td>5934830865583732438</td>\n",
              "      <td>-5892863911620884666</td>\n",
              "    </tr>\n",
              "    <tr>\n",
              "      <th>8</th>\n",
              "      <td>117583</td>\n",
              "      <td>1</td>\n",
              "      <td>1005</td>\n",
              "      <td>0</td>\n",
              "      <td>1</td>\n",
              "      <td>0</td>\n",
              "      <td>15705</td>\n",
              "      <td>320</td>\n",
              "      <td>50</td>\n",
              "      <td>1722</td>\n",
              "      <td>0</td>\n",
              "      <td>35</td>\n",
              "      <td>100084</td>\n",
              "      <td>79</td>\n",
              "      <td>578726218889777156</td>\n",
              "      <td>4240632564129425253</td>\n",
              "      <td>-4982934931202804732</td>\n",
              "      <td>-6401314246411525770</td>\n",
              "      <td>9114451542737112072</td>\n",
              "      <td>-3557976943843515094</td>\n",
              "      <td>-4196694844799427527</td>\n",
              "      <td>7781118763427570549</td>\n",
              "      <td>-369447297597314522</td>\n",
              "      <td>689668962012072635</td>\n",
              "      <td>689895388136294759</td>\n",
              "    </tr>\n",
              "    <tr>\n",
              "      <th>9</th>\n",
              "      <td>21440</td>\n",
              "      <td>0</td>\n",
              "      <td>1005</td>\n",
              "      <td>0</td>\n",
              "      <td>1</td>\n",
              "      <td>0</td>\n",
              "      <td>15708</td>\n",
              "      <td>320</td>\n",
              "      <td>50</td>\n",
              "      <td>1722</td>\n",
              "      <td>0</td>\n",
              "      <td>35</td>\n",
              "      <td>-1</td>\n",
              "      <td>79</td>\n",
              "      <td>1431651494640035845</td>\n",
              "      <td>4240632564129425253</td>\n",
              "      <td>-4982934931202804732</td>\n",
              "      <td>-6401314246411525770</td>\n",
              "      <td>9114451542737112072</td>\n",
              "      <td>-3557976943843515094</td>\n",
              "      <td>-4196694844799427527</td>\n",
              "      <td>7781118763427570549</td>\n",
              "      <td>-369447297597314522</td>\n",
              "      <td>-6942646890864231331</td>\n",
              "      <td>-2514868768036749745</td>\n",
              "    </tr>\n",
              "  </tbody>\n",
              "</table>\n",
              "</div>"
            ],
            "text/plain": [
              "   Unnamed: 0  click    C1  banner_pos  device_type  device_conn_type    C14  \\\n",
              "0      128037      0  1005           1            1                 0  20352   \n",
              "1      491755      0  1005           0            1                 0  15701   \n",
              "2      470924      0  1005           1            1                 0  17614   \n",
              "3      791624      0  1005           1            1                 0  16208   \n",
              "4      491263      1  1005           1            1                 0  17614   \n",
              "5      836489      0  1005           1            1                 0  16071   \n",
              "6      371403      0  1005           0            1                 0  21647   \n",
              "7       73349      0  1005           0            1                 2  18993   \n",
              "8      117583      1  1005           0            1                 0  15705   \n",
              "9       21440      0  1005           0            1                 0  15708   \n",
              "\n",
              "   C15  C16   C17  C18   C19     C20  C21               id_int  \\\n",
              "0  320   50  2333    0    39      -1  157  1851136515429832708   \n",
              "1  320   50  1722    0    35  100084   79   870907369701378053   \n",
              "2  320   50  1993    2  1063      -1   33  1374638994809530372   \n",
              "3  320   50  1800    3   167  100075   23  1844218567631500288   \n",
              "4  320   50  1993    2  1063      -1   33   830944131004061701   \n",
              "5  320   50  1784    2   175  100075   95    48387146170622978   \n",
              "6  320   50  2487    1   547      -1   51   294034695527424001   \n",
              "7  320   50  2161    0    35      -1  157  1293234696947051009   \n",
              "8  320   50  1722    0    35  100084   79   578726218889777156   \n",
              "9  320   50  1722    0    35      -1   79  1431651494640035845   \n",
              "\n",
              "              hour_int          site_id_int      site_domain_int  \\\n",
              "0 -5504914308411718190  3313200183633152470 -4740863942945760051   \n",
              "1  6248454270083823517 -4982934931202804732 -6401314246411525770   \n",
              "2  6248454270083823517 -1846540141553495697   459317138989523756   \n",
              "3 -3652415584395688521  6284382993401260880  7654526404851795092   \n",
              "4  6248454270083823517 -1846540141553495697   459317138989523756   \n",
              "5 -3652415584395688521 -3377829324121154603  8491856204138550781   \n",
              "6 -5688538096583776976 -7052432531362548359  1907092293102099262   \n",
              "7  4240632564129425253 -1315251920760940429 -3584738422873482077   \n",
              "8  4240632564129425253 -4982934931202804732 -6401314246411525770   \n",
              "9  4240632564129425253 -4982934931202804732 -6401314246411525770   \n",
              "\n",
              "     site_category_int           app_id_int       app_domain_int  \\\n",
              "0  5536396786171021463 -3557976943843515094 -4196694844799427527   \n",
              "1  9114451542737112072 -3557976943843515094 -4196694844799427527   \n",
              "2  5536396786171021463 -3557976943843515094 -4196694844799427527   \n",
              "3  5536396786171021463 -3557976943843515094 -4196694844799427527   \n",
              "4  5536396786171021463 -3557976943843515094 -4196694844799427527   \n",
              "5  5536396786171021463 -3557976943843515094 -4196694844799427527   \n",
              "6  9140304770713661246 -3557976943843515094 -4196694844799427527   \n",
              "7  -505340801626743153 -8035372221721464921 -1108221301414773065   \n",
              "8  9114451542737112072 -3557976943843515094 -4196694844799427527   \n",
              "9  9114451542737112072 -3557976943843515094 -4196694844799427527   \n",
              "\n",
              "      app_category_int       device_id_int        device_ip_int  \\\n",
              "0  7781118763427570549 -369447297597314522 -4585295244068350244   \n",
              "1  7781118763427570549 -369447297597314522 -1601265454233218854   \n",
              "2  7781118763427570549 -369447297597314522 -7244720979837981716   \n",
              "3  7781118763427570549 -369447297597314522 -6627780091908111748   \n",
              "4  7781118763427570549 -369447297597314522  -302178925910177771   \n",
              "5  7781118763427570549 -369447297597314522 -2676602350507982318   \n",
              "6  7781118763427570549 -369447297597314522 -5755994773086828096   \n",
              "7 -8084641172719741920 -369447297597314522  5934830865583732438   \n",
              "8  7781118763427570549 -369447297597314522   689668962012072635   \n",
              "9  7781118763427570549 -369447297597314522 -6942646890864231331   \n",
              "\n",
              "      device_model_int  \n",
              "0   358576413308335100  \n",
              "1  -413330847822570983  \n",
              "2   689895388136294759  \n",
              "3 -7638054607217932975  \n",
              "4  5463420581279209704  \n",
              "5 -8534614955488446281  \n",
              "6 -6337595865414466446  \n",
              "7 -5892863911620884666  \n",
              "8   689895388136294759  \n",
              "9 -2514868768036749745  "
            ]
          },
          "metadata": {
            "tags": []
          },
          "execution_count": 8
        }
      ]
    },
    {
      "cell_type": "markdown",
      "metadata": {
        "id": "tjd8xIHbscws",
        "colab_type": "text"
      },
      "source": [
        "##Train a XGboost Model"
      ]
    },
    {
      "cell_type": "code",
      "metadata": {
        "id": "pBP0U3h3siCa",
        "colab_type": "code",
        "colab": {}
      },
      "source": [
        "from sklearn.model_selection import train_test_split\n",
        "# Extracting all columns from the train model except the target mask column\n",
        "model_target = 'click'\n",
        "model_features = np.array(df_model.columns[df_model.columns!=model_target].tolist())\n",
        "\n",
        "#Split the dataset\n",
        "x_train, x_test, y_train, y_test = train_test_split(\n",
        "    df_model[model_features].values,\n",
        "    df_model[model_target].values,\n",
        "    test_size=0.3,\n",
        ")\n",
        "x_train, x_valid, y_train, y_valid = train_test_split(\n",
        "    x_train,\n",
        "    y_train,\n",
        "    stratify=y_train,\n",
        "    test_size=0.1)\n"
      ],
      "execution_count": null,
      "outputs": []
    },
    {
      "cell_type": "code",
      "metadata": {
        "id": "mY-_VJg2ztG7",
        "colab_type": "code",
        "colab": {
          "base_uri": "https://localhost:8080/",
          "height": 1000
        },
        "outputId": "92163a9d-8b38-4a78-975d-50c91ba138d1"
      },
      "source": [
        "import xgboost as xgb\n",
        "from xgboost import XGBClassifier\n",
        "from operator import itemgetter\n",
        "from sklearn.metrics import roc_auc_score\n",
        "from sklearn.metrics import precision_score, recall_score, accuracy_score\n",
        "from sklearn.model_selection import GridSearchCV\n",
        "\n",
        "#Build a XGBoost classifier\n",
        "#Calculate the ratio of positive weight\n",
        "data_dmatrix = xgb.DMatrix(data=df_model[model_features],label=df_model[model_target],feature_names=model_features)\n",
        "label = data_dmatrix.get_label()\n",
        "ratio = float(np.sum(label == 0)) / np.sum(label == 1)\n",
        "\n",
        "xgb_clf = XGBClassifier(scale_pos_weight=ratio)\n",
        "xgb_clf.fit(x_train, y_train, early_stopping_rounds=10,\n",
        "            eval_metric=\"auc\", eval_set=[(x_valid, y_valid)])"
      ],
      "execution_count": null,
      "outputs": [
        {
          "output_type": "stream",
          "text": [
            "[0]\tvalidation_0-auc:0.620389\n",
            "Will train until validation_0-auc hasn't improved in 10 rounds.\n",
            "[1]\tvalidation_0-auc:0.644658\n",
            "[2]\tvalidation_0-auc:0.654963\n",
            "[3]\tvalidation_0-auc:0.654352\n",
            "[4]\tvalidation_0-auc:0.658208\n",
            "[5]\tvalidation_0-auc:0.658945\n",
            "[6]\tvalidation_0-auc:0.661494\n",
            "[7]\tvalidation_0-auc:0.661976\n",
            "[8]\tvalidation_0-auc:0.663811\n",
            "[9]\tvalidation_0-auc:0.664124\n",
            "[10]\tvalidation_0-auc:0.664501\n",
            "[11]\tvalidation_0-auc:0.6647\n",
            "[12]\tvalidation_0-auc:0.665107\n",
            "[13]\tvalidation_0-auc:0.667862\n",
            "[14]\tvalidation_0-auc:0.670845\n",
            "[15]\tvalidation_0-auc:0.673467\n",
            "[16]\tvalidation_0-auc:0.673945\n",
            "[17]\tvalidation_0-auc:0.675325\n",
            "[18]\tvalidation_0-auc:0.676487\n",
            "[19]\tvalidation_0-auc:0.677574\n",
            "[20]\tvalidation_0-auc:0.677756\n",
            "[21]\tvalidation_0-auc:0.678106\n",
            "[22]\tvalidation_0-auc:0.679468\n",
            "[23]\tvalidation_0-auc:0.67955\n",
            "[24]\tvalidation_0-auc:0.680127\n",
            "[25]\tvalidation_0-auc:0.681013\n",
            "[26]\tvalidation_0-auc:0.681584\n",
            "[27]\tvalidation_0-auc:0.681761\n",
            "[28]\tvalidation_0-auc:0.682172\n",
            "[29]\tvalidation_0-auc:0.682889\n",
            "[30]\tvalidation_0-auc:0.682959\n",
            "[31]\tvalidation_0-auc:0.68456\n",
            "[32]\tvalidation_0-auc:0.685339\n",
            "[33]\tvalidation_0-auc:0.685682\n",
            "[34]\tvalidation_0-auc:0.6864\n",
            "[35]\tvalidation_0-auc:0.686341\n",
            "[36]\tvalidation_0-auc:0.686781\n",
            "[37]\tvalidation_0-auc:0.687054\n",
            "[38]\tvalidation_0-auc:0.687803\n",
            "[39]\tvalidation_0-auc:0.68821\n",
            "[40]\tvalidation_0-auc:0.688352\n",
            "[41]\tvalidation_0-auc:0.688903\n",
            "[42]\tvalidation_0-auc:0.689351\n",
            "[43]\tvalidation_0-auc:0.689763\n",
            "[44]\tvalidation_0-auc:0.69008\n",
            "[45]\tvalidation_0-auc:0.690525\n",
            "[46]\tvalidation_0-auc:0.690936\n",
            "[47]\tvalidation_0-auc:0.691423\n",
            "[48]\tvalidation_0-auc:0.691964\n",
            "[49]\tvalidation_0-auc:0.692199\n",
            "[50]\tvalidation_0-auc:0.692683\n",
            "[51]\tvalidation_0-auc:0.692861\n",
            "[52]\tvalidation_0-auc:0.692885\n",
            "[53]\tvalidation_0-auc:0.693362\n",
            "[54]\tvalidation_0-auc:0.693624\n",
            "[55]\tvalidation_0-auc:0.693871\n",
            "[56]\tvalidation_0-auc:0.694214\n",
            "[57]\tvalidation_0-auc:0.694453\n",
            "[58]\tvalidation_0-auc:0.69505\n",
            "[59]\tvalidation_0-auc:0.695383\n",
            "[60]\tvalidation_0-auc:0.695632\n",
            "[61]\tvalidation_0-auc:0.696145\n",
            "[62]\tvalidation_0-auc:0.696272\n",
            "[63]\tvalidation_0-auc:0.696543\n",
            "[64]\tvalidation_0-auc:0.696714\n",
            "[65]\tvalidation_0-auc:0.697618\n",
            "[66]\tvalidation_0-auc:0.697669\n",
            "[67]\tvalidation_0-auc:0.697971\n",
            "[68]\tvalidation_0-auc:0.698196\n",
            "[69]\tvalidation_0-auc:0.698651\n",
            "[70]\tvalidation_0-auc:0.698713\n",
            "[71]\tvalidation_0-auc:0.698892\n",
            "[72]\tvalidation_0-auc:0.699229\n",
            "[73]\tvalidation_0-auc:0.699784\n",
            "[74]\tvalidation_0-auc:0.699906\n",
            "[75]\tvalidation_0-auc:0.700045\n",
            "[76]\tvalidation_0-auc:0.70014\n",
            "[77]\tvalidation_0-auc:0.700268\n",
            "[78]\tvalidation_0-auc:0.700424\n",
            "[79]\tvalidation_0-auc:0.70068\n",
            "[80]\tvalidation_0-auc:0.7012\n",
            "[81]\tvalidation_0-auc:0.701421\n",
            "[82]\tvalidation_0-auc:0.701423\n",
            "[83]\tvalidation_0-auc:0.701663\n",
            "[84]\tvalidation_0-auc:0.701864\n",
            "[85]\tvalidation_0-auc:0.70195\n",
            "[86]\tvalidation_0-auc:0.702166\n",
            "[87]\tvalidation_0-auc:0.702191\n",
            "[88]\tvalidation_0-auc:0.702415\n",
            "[89]\tvalidation_0-auc:0.702631\n",
            "[90]\tvalidation_0-auc:0.702818\n",
            "[91]\tvalidation_0-auc:0.702836\n",
            "[92]\tvalidation_0-auc:0.702907\n",
            "[93]\tvalidation_0-auc:0.703248\n",
            "[94]\tvalidation_0-auc:0.70328\n",
            "[95]\tvalidation_0-auc:0.703445\n",
            "[96]\tvalidation_0-auc:0.703546\n",
            "[97]\tvalidation_0-auc:0.703825\n",
            "[98]\tvalidation_0-auc:0.70401\n",
            "[99]\tvalidation_0-auc:0.704121\n"
          ],
          "name": "stdout"
        },
        {
          "output_type": "execute_result",
          "data": {
            "text/plain": [
              "XGBClassifier(base_score=0.5, booster='gbtree', colsample_bylevel=1,\n",
              "              colsample_bynode=1, colsample_bytree=1, gamma=0,\n",
              "              learning_rate=0.1, max_delta_step=0, max_depth=3,\n",
              "              min_child_weight=1, missing=None, n_estimators=100, n_jobs=1,\n",
              "              nthread=None, objective='binary:logistic', random_state=0,\n",
              "              reg_alpha=0, reg_lambda=1, scale_pos_weight=4.888718957104363,\n",
              "              seed=None, silent=None, subsample=1, verbosity=1)"
            ]
          },
          "metadata": {
            "tags": []
          },
          "execution_count": 33
        }
      ]
    },
    {
      "cell_type": "code",
      "metadata": {
        "id": "0DKbstkzw4zC",
        "colab_type": "code",
        "colab": {}
      },
      "source": [
        "#Define a function to print out evaluation metrics\n",
        "def model_evaluation(model):  \n",
        "    from sklearn.metrics import classification_report\n",
        "\n",
        "    #Evaluate the initial model on training set\n",
        "    y_pred = model.predict(x_test)\n",
        "    predictions = [round(value) for value in y_pred]\n",
        "    print(classification_report(y_test,\n",
        "                            predictions))\n",
        "    \n",
        "    from sklearn.metrics import plot_confusion_matrix\n",
        "\n",
        "    class_names = model_target\n",
        "\n",
        "    # Plot non-normalized confusion matrix\n",
        "    titles_options = [(\"Confusion matrix, without normalization\", None),\n",
        "                  (\"Normalized confusion matrix\", 'true')]\n",
        "    for title, normalize in titles_options:\n",
        "      disp = plot_confusion_matrix(model, x_test, y_test,\n",
        "                                     display_labels=class_names,\n",
        "                                     cmap=plt.cm.Blues,\n",
        "                                     normalize=normalize)\n",
        "      disp.ax_.set_title(title)\n",
        "\n",
        "      print(title)\n",
        "      print(disp.confusion_matrix)\n",
        "    plt.show()"
      ],
      "execution_count": null,
      "outputs": []
    },
    {
      "cell_type": "code",
      "metadata": {
        "id": "cy_r9lrs5cB3",
        "colab_type": "code",
        "colab": {
          "base_uri": "https://localhost:8080/",
          "height": 840
        },
        "outputId": "dacb8ce6-1771-4ca9-ef1a-bcb3468213a6"
      },
      "source": [
        "model_evaluation(xgb_clf)"
      ],
      "execution_count": null,
      "outputs": [
        {
          "output_type": "stream",
          "text": [
            "              precision    recall  f1-score   support\n",
            "\n",
            "           0       0.91      0.59      0.72    100712\n",
            "           1       0.26      0.71      0.39     20575\n",
            "\n",
            "    accuracy                           0.61    121287\n",
            "   macro avg       0.59      0.65      0.55    121287\n",
            "weighted avg       0.80      0.61      0.66    121287\n",
            "\n",
            "Confusion matrix, without normalization\n",
            "[[59859 40853]\n",
            " [ 5920 14655]]\n",
            "Normalized confusion matrix\n",
            "[[0.59435817 0.40564183]\n",
            " [0.28772783 0.71227217]]\n"
          ],
          "name": "stdout"
        },
        {
          "output_type": "display_data",
          "data": {
            "image/png": "[encoded data removed]",
            "text/plain": [
              "<Figure size 432x288 with 2 Axes>"
            ]
          },
          "metadata": {
            "tags": [],
            "needs_background": "light"
          }
        },
        {
          "output_type": "display_data",
          "data": {
            "image/png": "[encoded data removed]",
            "text/plain": [
              "<Figure size 432x288 with 2 Axes>"
            ]
          },
          "metadata": {
            "tags": [],
            "needs_background": "light"
          }
        }
      ]
    },
    {
      "cell_type": "markdown",
      "metadata": {
        "id": "xEm0ZjMnxgSL",
        "colab_type": "text"
      },
      "source": [
        "##Fine-tune the model"
      ]
    },
    {
      "cell_type": "code",
      "metadata": {
        "id": "MtPi0Enu3eLc",
        "colab_type": "code",
        "colab": {
          "base_uri": "https://localhost:8080/",
          "height": 1000
        },
        "outputId": "7fde0508-d263-4a52-e192-894236754abf"
      },
      "source": [
        "#Set up initial classifier\n",
        "xgb_clf_1 = XGBClassifier(base_score=0.6, \n",
        "                        booster='gbtree',\n",
        "                        gamma=0.1,\n",
        "                        colsample_bytree=0.8,\n",
        "                        learning_rate=0.1, \n",
        "                        max_depth=5,\n",
        "                        min_child_weight=1, \n",
        "                        n_estimators=1000, \n",
        "                        nthread=4, \n",
        "                        objective='binary:logistic', \n",
        "                        random_state=0,\n",
        "                        reg_alpha=0, \n",
        "                        reg_lambda=1, \n",
        "                        scale_pos_weight=ratio,\n",
        "                        seed=123,  \n",
        "                        subsample=0.8, \n",
        "                        )\n",
        "\n",
        "xgb_clf_1.fit(x_train, y_train, early_stopping_rounds=10,\n",
        "            eval_metric=\"auc\", eval_set=[(x_valid, y_valid)])"
      ],
      "execution_count": null,
      "outputs": [
        {
          "output_type": "stream",
          "text": [
            "[0]\tvalidation_0-auc:0.66572\n",
            "Will train until validation_0-auc hasn't improved in 10 rounds.\n",
            "[1]\tvalidation_0-auc:0.668638\n",
            "[2]\tvalidation_0-auc:0.681987\n",
            "[3]\tvalidation_0-auc:0.686207\n",
            "[4]\tvalidation_0-auc:0.690992\n",
            "[5]\tvalidation_0-auc:0.693375\n",
            "[6]\tvalidation_0-auc:0.693076\n",
            "[7]\tvalidation_0-auc:0.694073\n",
            "[8]\tvalidation_0-auc:0.693255\n",
            "[9]\tvalidation_0-auc:0.694626\n",
            "[10]\tvalidation_0-auc:0.693956\n",
            "[11]\tvalidation_0-auc:0.695568\n",
            "[12]\tvalidation_0-auc:0.696001\n",
            "[13]\tvalidation_0-auc:0.695989\n",
            "[14]\tvalidation_0-auc:0.697208\n",
            "[15]\tvalidation_0-auc:0.697465\n",
            "[16]\tvalidation_0-auc:0.698627\n",
            "[17]\tvalidation_0-auc:0.699121\n",
            "[18]\tvalidation_0-auc:0.699801\n",
            "[19]\tvalidation_0-auc:0.700726\n",
            "[20]\tvalidation_0-auc:0.700961\n",
            "[21]\tvalidation_0-auc:0.701359\n",
            "[22]\tvalidation_0-auc:0.701409\n",
            "[23]\tvalidation_0-auc:0.701576\n",
            "[24]\tvalidation_0-auc:0.70192\n",
            "[25]\tvalidation_0-auc:0.703035\n",
            "[26]\tvalidation_0-auc:0.703659\n",
            "[27]\tvalidation_0-auc:0.704071\n",
            "[28]\tvalidation_0-auc:0.7047\n",
            "[29]\tvalidation_0-auc:0.705225\n",
            "[30]\tvalidation_0-auc:0.705992\n",
            "[31]\tvalidation_0-auc:0.706606\n",
            "[32]\tvalidation_0-auc:0.706923\n",
            "[33]\tvalidation_0-auc:0.707479\n",
            "[34]\tvalidation_0-auc:0.707849\n",
            "[35]\tvalidation_0-auc:0.70797\n",
            "[36]\tvalidation_0-auc:0.708697\n",
            "[37]\tvalidation_0-auc:0.709034\n",
            "[38]\tvalidation_0-auc:0.709787\n",
            "[39]\tvalidation_0-auc:0.710055\n",
            "[40]\tvalidation_0-auc:0.710101\n",
            "[41]\tvalidation_0-auc:0.710564\n",
            "[42]\tvalidation_0-auc:0.710759\n",
            "[43]\tvalidation_0-auc:0.711164\n",
            "[44]\tvalidation_0-auc:0.711364\n",
            "[45]\tvalidation_0-auc:0.711586\n",
            "[46]\tvalidation_0-auc:0.712166\n",
            "[47]\tvalidation_0-auc:0.712229\n",
            "[48]\tvalidation_0-auc:0.712411\n",
            "[49]\tvalidation_0-auc:0.712486\n",
            "[50]\tvalidation_0-auc:0.712764\n",
            "[51]\tvalidation_0-auc:0.712917\n",
            "[52]\tvalidation_0-auc:0.71306\n",
            "[53]\tvalidation_0-auc:0.713422\n",
            "[54]\tvalidation_0-auc:0.713978\n",
            "[55]\tvalidation_0-auc:0.714351\n",
            "[56]\tvalidation_0-auc:0.714479\n",
            "[57]\tvalidation_0-auc:0.714582\n",
            "[58]\tvalidation_0-auc:0.714869\n",
            "[59]\tvalidation_0-auc:0.715101\n",
            "[60]\tvalidation_0-auc:0.715129\n",
            "[61]\tvalidation_0-auc:0.715619\n",
            "[62]\tvalidation_0-auc:0.715898\n",
            "[63]\tvalidation_0-auc:0.715919\n",
            "[64]\tvalidation_0-auc:0.715804\n",
            "[65]\tvalidation_0-auc:0.715923\n",
            "[66]\tvalidation_0-auc:0.71603\n",
            "[67]\tvalidation_0-auc:0.716212\n",
            "[68]\tvalidation_0-auc:0.716324\n",
            "[69]\tvalidation_0-auc:0.716396\n",
            "[70]\tvalidation_0-auc:0.716357\n",
            "[71]\tvalidation_0-auc:0.716408\n",
            "[72]\tvalidation_0-auc:0.716613\n",
            "[73]\tvalidation_0-auc:0.716849\n",
            "[74]\tvalidation_0-auc:0.717092\n",
            "[75]\tvalidation_0-auc:0.717034\n",
            "[76]\tvalidation_0-auc:0.717136\n",
            "[77]\tvalidation_0-auc:0.717309\n",
            "[78]\tvalidation_0-auc:0.717315\n",
            "[79]\tvalidation_0-auc:0.717336\n",
            "[80]\tvalidation_0-auc:0.717584\n",
            "[81]\tvalidation_0-auc:0.717779\n",
            "[82]\tvalidation_0-auc:0.717811\n",
            "[83]\tvalidation_0-auc:0.717854\n",
            "[84]\tvalidation_0-auc:0.718001\n",
            "[85]\tvalidation_0-auc:0.71796\n",
            "[86]\tvalidation_0-auc:0.717983\n",
            "[87]\tvalidation_0-auc:0.718154\n",
            "[88]\tvalidation_0-auc:0.71817\n",
            "[89]\tvalidation_0-auc:0.718185\n",
            "[90]\tvalidation_0-auc:0.718164\n",
            "[91]\tvalidation_0-auc:0.718078\n",
            "[92]\tvalidation_0-auc:0.718334\n",
            "[93]\tvalidation_0-auc:0.718291\n",
            "[94]\tvalidation_0-auc:0.718313\n",
            "[95]\tvalidation_0-auc:0.718594\n",
            "[96]\tvalidation_0-auc:0.718745\n",
            "[97]\tvalidation_0-auc:0.71876\n",
            "[98]\tvalidation_0-auc:0.718912\n",
            "[99]\tvalidation_0-auc:0.718964\n",
            "[100]\tvalidation_0-auc:0.719043\n",
            "[101]\tvalidation_0-auc:0.719112\n",
            "[102]\tvalidation_0-auc:0.719032\n",
            "[103]\tvalidation_0-auc:0.719046\n",
            "[104]\tvalidation_0-auc:0.719091\n",
            "[105]\tvalidation_0-auc:0.719061\n",
            "[106]\tvalidation_0-auc:0.718996\n",
            "[107]\tvalidation_0-auc:0.718984\n",
            "[108]\tvalidation_0-auc:0.719056\n",
            "[109]\tvalidation_0-auc:0.719115\n",
            "[110]\tvalidation_0-auc:0.719205\n",
            "[111]\tvalidation_0-auc:0.719615\n",
            "[112]\tvalidation_0-auc:0.719735\n",
            "[113]\tvalidation_0-auc:0.719742\n",
            "[114]\tvalidation_0-auc:0.719891\n",
            "[115]\tvalidation_0-auc:0.719852\n",
            "[116]\tvalidation_0-auc:0.72\n",
            "[117]\tvalidation_0-auc:0.719996\n",
            "[118]\tvalidation_0-auc:0.7201\n",
            "[119]\tvalidation_0-auc:0.720328\n",
            "[120]\tvalidation_0-auc:0.720401\n",
            "[121]\tvalidation_0-auc:0.720407\n",
            "[122]\tvalidation_0-auc:0.720453\n",
            "[123]\tvalidation_0-auc:0.720438\n",
            "[124]\tvalidation_0-auc:0.720411\n",
            "[125]\tvalidation_0-auc:0.720399\n",
            "[126]\tvalidation_0-auc:0.720413\n",
            "[127]\tvalidation_0-auc:0.720393\n",
            "[128]\tvalidation_0-auc:0.720504\n",
            "[129]\tvalidation_0-auc:0.720564\n",
            "[130]\tvalidation_0-auc:0.720548\n",
            "[131]\tvalidation_0-auc:0.720761\n",
            "[132]\tvalidation_0-auc:0.720788\n",
            "[133]\tvalidation_0-auc:0.720786\n",
            "[134]\tvalidation_0-auc:0.720887\n",
            "[135]\tvalidation_0-auc:0.720893\n",
            "[136]\tvalidation_0-auc:0.721029\n",
            "[137]\tvalidation_0-auc:0.721098\n",
            "[138]\tvalidation_0-auc:0.721111\n",
            "[139]\tvalidation_0-auc:0.721175\n",
            "[140]\tvalidation_0-auc:0.721205\n",
            "[141]\tvalidation_0-auc:0.721209\n",
            "[142]\tvalidation_0-auc:0.721405\n",
            "[143]\tvalidation_0-auc:0.721416\n",
            "[144]\tvalidation_0-auc:0.721608\n",
            "[145]\tvalidation_0-auc:0.721631\n",
            "[146]\tvalidation_0-auc:0.721728\n",
            "[147]\tvalidation_0-auc:0.721774\n",
            "[148]\tvalidation_0-auc:0.721779\n",
            "[149]\tvalidation_0-auc:0.721801\n",
            "[150]\tvalidation_0-auc:0.721796\n",
            "[151]\tvalidation_0-auc:0.721784\n",
            "[152]\tvalidation_0-auc:0.721784\n",
            "[153]\tvalidation_0-auc:0.721882\n",
            "[154]\tvalidation_0-auc:0.722064\n",
            "[155]\tvalidation_0-auc:0.722036\n",
            "[156]\tvalidation_0-auc:0.722022\n",
            "[157]\tvalidation_0-auc:0.722\n",
            "[158]\tvalidation_0-auc:0.72195\n",
            "[159]\tvalidation_0-auc:0.721871\n",
            "[160]\tvalidation_0-auc:0.722\n",
            "[161]\tvalidation_0-auc:0.721977\n",
            "[162]\tvalidation_0-auc:0.722035\n",
            "[163]\tvalidation_0-auc:0.722158\n",
            "[164]\tvalidation_0-auc:0.722193\n",
            "[165]\tvalidation_0-auc:0.722222\n",
            "[166]\tvalidation_0-auc:0.722222\n",
            "[167]\tvalidation_0-auc:0.722296\n",
            "[168]\tvalidation_0-auc:0.722315\n",
            "[169]\tvalidation_0-auc:0.722385\n",
            "[170]\tvalidation_0-auc:0.722503\n",
            "[171]\tvalidation_0-auc:0.722541\n",
            "[172]\tvalidation_0-auc:0.722602\n",
            "[173]\tvalidation_0-auc:0.722594\n",
            "[174]\tvalidation_0-auc:0.7226\n",
            "[175]\tvalidation_0-auc:0.722628\n",
            "[176]\tvalidation_0-auc:0.722626\n",
            "[177]\tvalidation_0-auc:0.72262\n",
            "[178]\tvalidation_0-auc:0.722668\n",
            "[179]\tvalidation_0-auc:0.722655\n",
            "[180]\tvalidation_0-auc:0.722656\n",
            "[181]\tvalidation_0-auc:0.722737\n",
            "[182]\tvalidation_0-auc:0.722814\n",
            "[183]\tvalidation_0-auc:0.722846\n",
            "[184]\tvalidation_0-auc:0.722832\n",
            "[185]\tvalidation_0-auc:0.722787\n",
            "[186]\tvalidation_0-auc:0.722775\n",
            "[187]\tvalidation_0-auc:0.72271\n",
            "[188]\tvalidation_0-auc:0.722731\n",
            "[189]\tvalidation_0-auc:0.722941\n",
            "[190]\tvalidation_0-auc:0.722972\n",
            "[191]\tvalidation_0-auc:0.723025\n",
            "[192]\tvalidation_0-auc:0.723114\n",
            "[193]\tvalidation_0-auc:0.723221\n",
            "[194]\tvalidation_0-auc:0.723313\n",
            "[195]\tvalidation_0-auc:0.723409\n",
            "[196]\tvalidation_0-auc:0.723424\n",
            "[197]\tvalidation_0-auc:0.723453\n",
            "[198]\tvalidation_0-auc:0.723547\n",
            "[199]\tvalidation_0-auc:0.723663\n",
            "[200]\tvalidation_0-auc:0.723635\n",
            "[201]\tvalidation_0-auc:0.723798\n",
            "[202]\tvalidation_0-auc:0.723794\n",
            "[203]\tvalidation_0-auc:0.723839\n",
            "[204]\tvalidation_0-auc:0.723925\n",
            "[205]\tvalidation_0-auc:0.723889\n",
            "[206]\tvalidation_0-auc:0.724024\n",
            "[207]\tvalidation_0-auc:0.723995\n",
            "[208]\tvalidation_0-auc:0.723923\n",
            "[209]\tvalidation_0-auc:0.723963\n",
            "[210]\tvalidation_0-auc:0.723966\n",
            "[211]\tvalidation_0-auc:0.724004\n",
            "[212]\tvalidation_0-auc:0.724077\n",
            "[213]\tvalidation_0-auc:0.724102\n",
            "[214]\tvalidation_0-auc:0.724068\n",
            "[215]\tvalidation_0-auc:0.724001\n",
            "[216]\tvalidation_0-auc:0.724044\n",
            "[217]\tvalidation_0-auc:0.724028\n",
            "[218]\tvalidation_0-auc:0.724047\n",
            "[219]\tvalidation_0-auc:0.724097\n",
            "[220]\tvalidation_0-auc:0.724173\n",
            "[221]\tvalidation_0-auc:0.724158\n",
            "[222]\tvalidation_0-auc:0.724261\n",
            "[223]\tvalidation_0-auc:0.724299\n",
            "[224]\tvalidation_0-auc:0.724321\n",
            "[225]\tvalidation_0-auc:0.72436\n",
            "[226]\tvalidation_0-auc:0.724394\n",
            "[227]\tvalidation_0-auc:0.724367\n",
            "[228]\tvalidation_0-auc:0.724337\n",
            "[229]\tvalidation_0-auc:0.724325\n",
            "[230]\tvalidation_0-auc:0.724363\n",
            "[231]\tvalidation_0-auc:0.724335\n",
            "[232]\tvalidation_0-auc:0.724326\n",
            "[233]\tvalidation_0-auc:0.724323\n",
            "[234]\tvalidation_0-auc:0.724352\n",
            "[235]\tvalidation_0-auc:0.724331\n",
            "[236]\tvalidation_0-auc:0.724318\n",
            "Stopping. Best iteration:\n",
            "[226]\tvalidation_0-auc:0.724394\n",
            "\n"
          ],
          "name": "stdout"
        },
        {
          "output_type": "execute_result",
          "data": {
            "text/plain": [
              "XGBClassifier(base_score=0.6, booster='gbtree', colsample_bylevel=1,\n",
              "              colsample_bynode=1, colsample_bytree=0.8, gamma=0.1,\n",
              "              learning_rate=0.1, max_delta_step=0, max_depth=5,\n",
              "              min_child_weight=1, missing=None, n_estimators=1000, n_jobs=1,\n",
              "              nthread=4, objective='binary:logistic', random_state=0,\n",
              "              reg_alpha=0, reg_lambda=1, scale_pos_weight=4.888718957104363,\n",
              "              seed=123, silent=None, subsample=0.8, verbosity=1)"
            ]
          },
          "metadata": {
            "tags": []
          },
          "execution_count": 62
        }
      ]
    },
    {
      "cell_type": "code",
      "metadata": {
        "id": "XGBmCZ8b5wR5",
        "colab_type": "code",
        "colab": {
          "base_uri": "https://localhost:8080/",
          "height": 840
        },
        "outputId": "2ce149dc-6756-494e-c7bd-4faf02497889"
      },
      "source": [
        "model_evaluation(xgb_clf_1)"
      ],
      "execution_count": null,
      "outputs": [
        {
          "output_type": "stream",
          "text": [
            "              precision    recall  f1-score   support\n",
            "\n",
            "           0       0.92      0.62      0.74    100712\n",
            "           1       0.28      0.72      0.40     20575\n",
            "\n",
            "    accuracy                           0.64    121287\n",
            "   macro avg       0.60      0.67      0.57    121287\n",
            "weighted avg       0.81      0.64      0.68    121287\n",
            "\n",
            "Confusion matrix, without normalization\n",
            "[[62241 38471]\n",
            " [ 5696 14879]]\n",
            "Normalized confusion matrix\n",
            "[[0.61800977 0.38199023]\n",
            " [0.27684083 0.72315917]]\n"
          ],
          "name": "stdout"
        },
        {
          "output_type": "display_data",
          "data": {
            "image/png": "[encoded data removed]",
            "text/plain": [
              "<Figure size 432x288 with 2 Axes>"
            ]
          },
          "metadata": {
            "tags": [],
            "needs_background": "light"
          }
        },
        {
          "output_type": "display_data",
          "data": {
            "image/png": "[encoded data removed]",
            "text/plain": [
              "<Figure size 432x288 with 2 Axes>"
            ]
          },
          "metadata": {
            "tags": [],
            "needs_background": "light"
          }
        }
      ]
    },
    {
      "cell_type": "markdown",
      "metadata": {
        "id": "93RkK9YC70lT",
        "colab_type": "text"
      },
      "source": [
        "##Tune max_depth and min_weight"
      ]
    },
    {
      "cell_type": "code",
      "metadata": {
        "id": "tvY1mc7778y5",
        "colab_type": "code",
        "colab": {
          "base_uri": "https://localhost:8080/",
          "height": 1000
        },
        "outputId": "7d0d3f3e-2463-41d7-9fcb-8587db7f4f79"
      },
      "source": [
        "param_test1 = {\n",
        " 'max_depth':[3, 8],\n",
        " 'min_child_weight':[3, 5]\n",
        "}\n",
        "gsearch1 = GridSearchCV(estimator = xgb_clf_1, \n",
        "                        param_grid = param_test1,     \n",
        "                        scoring='roc_auc',\n",
        "                        n_jobs=4,\n",
        "                        iid=False, \n",
        "                        cv=3)\n",
        "\n",
        "gsearch1.fit(x_train, y_train, early_stopping_rounds=10,\n",
        "            eval_metric=\"auc\", eval_set=[(x_valid, y_valid)])"
      ],
      "execution_count": null,
      "outputs": [
        {
          "output_type": "stream",
          "text": [
            "/usr/local/lib/python3.6/dist-packages/sklearn/model_selection/_search.py:823: FutureWarning: The parameter 'iid' is deprecated in 0.22 and will be removed in 0.24.\n",
            "  \"removed in 0.24.\", FutureWarning\n"
          ],
          "name": "stderr"
        },
        {
          "output_type": "stream",
          "text": [
            "[0]\tvalidation_0-auc:0.685665\n",
            "Will train until validation_0-auc hasn't improved in 10 rounds.\n",
            "[1]\tvalidation_0-auc:0.698645\n",
            "[2]\tvalidation_0-auc:0.701317\n",
            "[3]\tvalidation_0-auc:0.707474\n",
            "[4]\tvalidation_0-auc:0.708942\n",
            "[5]\tvalidation_0-auc:0.711087\n",
            "[6]\tvalidation_0-auc:0.710665\n",
            "[7]\tvalidation_0-auc:0.710709\n",
            "[8]\tvalidation_0-auc:0.710916\n",
            "[9]\tvalidation_0-auc:0.711771\n",
            "[10]\tvalidation_0-auc:0.711735\n",
            "[11]\tvalidation_0-auc:0.712012\n",
            "[12]\tvalidation_0-auc:0.712429\n",
            "[13]\tvalidation_0-auc:0.712698\n",
            "[14]\tvalidation_0-auc:0.712818\n",
            "[15]\tvalidation_0-auc:0.713049\n",
            "[16]\tvalidation_0-auc:0.713377\n",
            "[17]\tvalidation_0-auc:0.714044\n",
            "[18]\tvalidation_0-auc:0.714346\n",
            "[19]\tvalidation_0-auc:0.714663\n",
            "[20]\tvalidation_0-auc:0.71472\n",
            "[21]\tvalidation_0-auc:0.715161\n",
            "[22]\tvalidation_0-auc:0.715705\n",
            "[23]\tvalidation_0-auc:0.715819\n",
            "[24]\tvalidation_0-auc:0.716463\n",
            "[25]\tvalidation_0-auc:0.716677\n",
            "[26]\tvalidation_0-auc:0.717212\n",
            "[27]\tvalidation_0-auc:0.717524\n",
            "[28]\tvalidation_0-auc:0.71794\n",
            "[29]\tvalidation_0-auc:0.718223\n",
            "[30]\tvalidation_0-auc:0.718954\n",
            "[31]\tvalidation_0-auc:0.719454\n",
            "[32]\tvalidation_0-auc:0.719744\n",
            "[33]\tvalidation_0-auc:0.719812\n",
            "[34]\tvalidation_0-auc:0.720038\n",
            "[35]\tvalidation_0-auc:0.720188\n",
            "[36]\tvalidation_0-auc:0.720461\n",
            "[37]\tvalidation_0-auc:0.720486\n",
            "[38]\tvalidation_0-auc:0.720608\n",
            "[39]\tvalidation_0-auc:0.720626\n",
            "[40]\tvalidation_0-auc:0.721169\n",
            "[41]\tvalidation_0-auc:0.721459\n",
            "[42]\tvalidation_0-auc:0.721799\n",
            "[43]\tvalidation_0-auc:0.721758\n",
            "[44]\tvalidation_0-auc:0.721752\n",
            "[45]\tvalidation_0-auc:0.721791\n",
            "[46]\tvalidation_0-auc:0.722311\n",
            "[47]\tvalidation_0-auc:0.722204\n",
            "[48]\tvalidation_0-auc:0.722251\n",
            "[49]\tvalidation_0-auc:0.72223\n",
            "[50]\tvalidation_0-auc:0.722306\n",
            "[51]\tvalidation_0-auc:0.722319\n",
            "[52]\tvalidation_0-auc:0.722193\n",
            "[53]\tvalidation_0-auc:0.722213\n",
            "[54]\tvalidation_0-auc:0.722359\n",
            "[55]\tvalidation_0-auc:0.722245\n",
            "[56]\tvalidation_0-auc:0.722196\n",
            "[57]\tvalidation_0-auc:0.722542\n",
            "[58]\tvalidation_0-auc:0.722837\n",
            "[59]\tvalidation_0-auc:0.722976\n",
            "[60]\tvalidation_0-auc:0.723003\n",
            "[61]\tvalidation_0-auc:0.722993\n",
            "[62]\tvalidation_0-auc:0.722992\n",
            "[63]\tvalidation_0-auc:0.723374\n",
            "[64]\tvalidation_0-auc:0.723431\n",
            "[65]\tvalidation_0-auc:0.72353\n",
            "[66]\tvalidation_0-auc:0.723616\n",
            "[67]\tvalidation_0-auc:0.723601\n",
            "[68]\tvalidation_0-auc:0.723628\n",
            "[69]\tvalidation_0-auc:0.723658\n",
            "[70]\tvalidation_0-auc:0.723741\n",
            "[71]\tvalidation_0-auc:0.723678\n",
            "[72]\tvalidation_0-auc:0.723759\n",
            "[73]\tvalidation_0-auc:0.723853\n",
            "[74]\tvalidation_0-auc:0.723915\n",
            "[75]\tvalidation_0-auc:0.72382\n",
            "[76]\tvalidation_0-auc:0.723774\n",
            "[77]\tvalidation_0-auc:0.723877\n",
            "[78]\tvalidation_0-auc:0.72384\n",
            "[79]\tvalidation_0-auc:0.723919\n",
            "[80]\tvalidation_0-auc:0.724101\n",
            "[81]\tvalidation_0-auc:0.724211\n",
            "[82]\tvalidation_0-auc:0.724364\n",
            "[83]\tvalidation_0-auc:0.724438\n",
            "[84]\tvalidation_0-auc:0.724335\n",
            "[85]\tvalidation_0-auc:0.724413\n",
            "[86]\tvalidation_0-auc:0.724543\n",
            "[87]\tvalidation_0-auc:0.724589\n",
            "[88]\tvalidation_0-auc:0.724613\n",
            "[89]\tvalidation_0-auc:0.724689\n",
            "[90]\tvalidation_0-auc:0.724632\n",
            "[91]\tvalidation_0-auc:0.72481\n",
            "[92]\tvalidation_0-auc:0.724805\n",
            "[93]\tvalidation_0-auc:0.724946\n",
            "[94]\tvalidation_0-auc:0.72487\n",
            "[95]\tvalidation_0-auc:0.724918\n",
            "[96]\tvalidation_0-auc:0.724948\n",
            "[97]\tvalidation_0-auc:0.724934\n",
            "[98]\tvalidation_0-auc:0.725064\n",
            "[99]\tvalidation_0-auc:0.725086\n",
            "[100]\tvalidation_0-auc:0.725227\n",
            "[101]\tvalidation_0-auc:0.72526\n",
            "[102]\tvalidation_0-auc:0.725161\n",
            "[103]\tvalidation_0-auc:0.725167\n",
            "[104]\tvalidation_0-auc:0.725165\n",
            "[105]\tvalidation_0-auc:0.725207\n",
            "[106]\tvalidation_0-auc:0.725224\n",
            "[107]\tvalidation_0-auc:0.725191\n",
            "[108]\tvalidation_0-auc:0.725168\n",
            "[109]\tvalidation_0-auc:0.725081\n",
            "[110]\tvalidation_0-auc:0.725051\n",
            "[111]\tvalidation_0-auc:0.725092\n",
            "Stopping. Best iteration:\n",
            "[101]\tvalidation_0-auc:0.72526\n",
            "\n"
          ],
          "name": "stdout"
        },
        {
          "output_type": "error",
          "ename": "AttributeError",
          "evalue": "ignored",
          "traceback": [
            "\u001b[0;31m---------------------------------------------------------------------------\u001b[0m",
            "\u001b[0;31mAttributeError\u001b[0m                            Traceback (most recent call last)",
            "\u001b[0;32m<ipython-input-65-62c11a62c545>\u001b[0m in \u001b[0;36m<module>\u001b[0;34m()\u001b[0m\n\u001b[1;32m     13\u001b[0m             eval_metric=\"auc\", eval_set=[(x_valid, y_valid)])\n\u001b[1;32m     14\u001b[0m \u001b[0;34m\u001b[0m\u001b[0m\n\u001b[0;32m---> 15\u001b[0;31m \u001b[0mgsearch1\u001b[0m\u001b[0;34m.\u001b[0m\u001b[0mgrid_scores_\u001b[0m\u001b[0;34m,\u001b[0m \u001b[0mgsearch1\u001b[0m\u001b[0;34m.\u001b[0m\u001b[0mbest_params_\u001b[0m\u001b[0;34m,\u001b[0m \u001b[0mgsearch1\u001b[0m\u001b[0;34m.\u001b[0m\u001b[0mbest_score_\u001b[0m\u001b[0;34m\u001b[0m\u001b[0;34m\u001b[0m\u001b[0m\n\u001b[0m",
            "\u001b[0;31mAttributeError\u001b[0m: 'GridSearchCV' object has no attribute 'grid_scores_'"
          ]
        }
      ]
    },
    {
      "cell_type": "code",
      "metadata": {
        "id": "-frRNcWlK67n",
        "colab_type": "code",
        "colab": {
          "base_uri": "https://localhost:8080/",
          "height": 34
        },
        "outputId": "facfa832-c016-47ba-a62f-077ae3c12ed8"
      },
      "source": [
        "gsearch1.best_params_"
      ],
      "execution_count": null,
      "outputs": [
        {
          "output_type": "execute_result",
          "data": {
            "text/plain": [
              "{'max_depth': 8, 'min_child_weight': 3}"
            ]
          },
          "metadata": {
            "tags": []
          },
          "execution_count": 66
        }
      ]
    },
    {
      "cell_type": "code",
      "metadata": {
        "id": "iuTu6NQwLWHz",
        "colab_type": "code",
        "colab": {
          "base_uri": "https://localhost:8080/",
          "height": 1000
        },
        "outputId": "144d789f-09e7-45a1-e8dd-dce4b5f0bfa0"
      },
      "source": [
        "param_test2 = {\n",
        " 'max_depth':[5,8],\n",
        " 'min_child_weight':[3,5]\n",
        "}\n",
        "gsearch2 = GridSearchCV(estimator = xgb_clf_1, \n",
        "                        param_grid = param_test2,     \n",
        "                        scoring='roc_auc',\n",
        "                        n_jobs=4,\n",
        "                        iid=False, \n",
        "                        cv=3)\n",
        "\n",
        "gsearch2.fit(x_train, y_train, early_stopping_rounds=20,\n",
        "            eval_metric=\"auc\", eval_set=[(x_valid, y_valid)])"
      ],
      "execution_count": null,
      "outputs": [
        {
          "output_type": "stream",
          "text": [
            "/usr/local/lib/python3.6/dist-packages/sklearn/model_selection/_search.py:823: FutureWarning: The parameter 'iid' is deprecated in 0.22 and will be removed in 0.24.\n",
            "  \"removed in 0.24.\", FutureWarning\n"
          ],
          "name": "stderr"
        },
        {
          "output_type": "stream",
          "text": [
            "[0]\tvalidation_0-auc:0.685665\n",
            "Will train until validation_0-auc hasn't improved in 20 rounds.\n",
            "[1]\tvalidation_0-auc:0.698645\n",
            "[2]\tvalidation_0-auc:0.701317\n",
            "[3]\tvalidation_0-auc:0.707474\n",
            "[4]\tvalidation_0-auc:0.708942\n",
            "[5]\tvalidation_0-auc:0.711087\n",
            "[6]\tvalidation_0-auc:0.710665\n",
            "[7]\tvalidation_0-auc:0.710709\n",
            "[8]\tvalidation_0-auc:0.710916\n",
            "[9]\tvalidation_0-auc:0.711771\n",
            "[10]\tvalidation_0-auc:0.711735\n",
            "[11]\tvalidation_0-auc:0.712012\n",
            "[12]\tvalidation_0-auc:0.712429\n",
            "[13]\tvalidation_0-auc:0.712698\n",
            "[14]\tvalidation_0-auc:0.712818\n",
            "[15]\tvalidation_0-auc:0.713049\n",
            "[16]\tvalidation_0-auc:0.713377\n",
            "[17]\tvalidation_0-auc:0.714044\n",
            "[18]\tvalidation_0-auc:0.714346\n",
            "[19]\tvalidation_0-auc:0.714663\n",
            "[20]\tvalidation_0-auc:0.71472\n",
            "[21]\tvalidation_0-auc:0.715161\n",
            "[22]\tvalidation_0-auc:0.715705\n",
            "[23]\tvalidation_0-auc:0.715819\n",
            "[24]\tvalidation_0-auc:0.716463\n",
            "[25]\tvalidation_0-auc:0.716677\n",
            "[26]\tvalidation_0-auc:0.717212\n",
            "[27]\tvalidation_0-auc:0.717524\n",
            "[28]\tvalidation_0-auc:0.71794\n",
            "[29]\tvalidation_0-auc:0.718223\n",
            "[30]\tvalidation_0-auc:0.718954\n",
            "[31]\tvalidation_0-auc:0.719454\n",
            "[32]\tvalidation_0-auc:0.719744\n",
            "[33]\tvalidation_0-auc:0.719812\n",
            "[34]\tvalidation_0-auc:0.720038\n",
            "[35]\tvalidation_0-auc:0.720188\n",
            "[36]\tvalidation_0-auc:0.720461\n",
            "[37]\tvalidation_0-auc:0.720486\n",
            "[38]\tvalidation_0-auc:0.720608\n",
            "[39]\tvalidation_0-auc:0.720626\n",
            "[40]\tvalidation_0-auc:0.721169\n",
            "[41]\tvalidation_0-auc:0.721459\n",
            "[42]\tvalidation_0-auc:0.721799\n",
            "[43]\tvalidation_0-auc:0.721758\n",
            "[44]\tvalidation_0-auc:0.721752\n",
            "[45]\tvalidation_0-auc:0.721791\n",
            "[46]\tvalidation_0-auc:0.722311\n",
            "[47]\tvalidation_0-auc:0.722204\n",
            "[48]\tvalidation_0-auc:0.722251\n",
            "[49]\tvalidation_0-auc:0.72223\n",
            "[50]\tvalidation_0-auc:0.722306\n",
            "[51]\tvalidation_0-auc:0.722319\n",
            "[52]\tvalidation_0-auc:0.722193\n",
            "[53]\tvalidation_0-auc:0.722213\n",
            "[54]\tvalidation_0-auc:0.722359\n",
            "[55]\tvalidation_0-auc:0.722245\n",
            "[56]\tvalidation_0-auc:0.722196\n",
            "[57]\tvalidation_0-auc:0.722542\n",
            "[58]\tvalidation_0-auc:0.722837\n",
            "[59]\tvalidation_0-auc:0.722976\n",
            "[60]\tvalidation_0-auc:0.723003\n",
            "[61]\tvalidation_0-auc:0.722993\n",
            "[62]\tvalidation_0-auc:0.722992\n",
            "[63]\tvalidation_0-auc:0.723374\n",
            "[64]\tvalidation_0-auc:0.723431\n",
            "[65]\tvalidation_0-auc:0.72353\n",
            "[66]\tvalidation_0-auc:0.723616\n",
            "[67]\tvalidation_0-auc:0.723601\n",
            "[68]\tvalidation_0-auc:0.723628\n",
            "[69]\tvalidation_0-auc:0.723658\n",
            "[70]\tvalidation_0-auc:0.723741\n",
            "[71]\tvalidation_0-auc:0.723678\n",
            "[72]\tvalidation_0-auc:0.723759\n",
            "[73]\tvalidation_0-auc:0.723853\n",
            "[74]\tvalidation_0-auc:0.723915\n",
            "[75]\tvalidation_0-auc:0.72382\n",
            "[76]\tvalidation_0-auc:0.723774\n",
            "[77]\tvalidation_0-auc:0.723877\n",
            "[78]\tvalidation_0-auc:0.72384\n",
            "[79]\tvalidation_0-auc:0.723919\n",
            "[80]\tvalidation_0-auc:0.724101\n",
            "[81]\tvalidation_0-auc:0.724211\n",
            "[82]\tvalidation_0-auc:0.724364\n",
            "[83]\tvalidation_0-auc:0.724438\n",
            "[84]\tvalidation_0-auc:0.724335\n",
            "[85]\tvalidation_0-auc:0.724413\n",
            "[86]\tvalidation_0-auc:0.724543\n",
            "[87]\tvalidation_0-auc:0.724589\n",
            "[88]\tvalidation_0-auc:0.724613\n",
            "[89]\tvalidation_0-auc:0.724689\n",
            "[90]\tvalidation_0-auc:0.724632\n",
            "[91]\tvalidation_0-auc:0.72481\n",
            "[92]\tvalidation_0-auc:0.724805\n",
            "[93]\tvalidation_0-auc:0.724946\n",
            "[94]\tvalidation_0-auc:0.72487\n",
            "[95]\tvalidation_0-auc:0.724918\n",
            "[96]\tvalidation_0-auc:0.724948\n",
            "[97]\tvalidation_0-auc:0.724934\n",
            "[98]\tvalidation_0-auc:0.725064\n",
            "[99]\tvalidation_0-auc:0.725086\n",
            "[100]\tvalidation_0-auc:0.725227\n",
            "[101]\tvalidation_0-auc:0.72526\n",
            "[102]\tvalidation_0-auc:0.725161\n",
            "[103]\tvalidation_0-auc:0.725167\n",
            "[104]\tvalidation_0-auc:0.725165\n",
            "[105]\tvalidation_0-auc:0.725207\n",
            "[106]\tvalidation_0-auc:0.725224\n",
            "[107]\tvalidation_0-auc:0.725191\n",
            "[108]\tvalidation_0-auc:0.725168\n",
            "[109]\tvalidation_0-auc:0.725081\n",
            "[110]\tvalidation_0-auc:0.725051\n",
            "[111]\tvalidation_0-auc:0.725092\n",
            "[112]\tvalidation_0-auc:0.725044\n",
            "[113]\tvalidation_0-auc:0.724988\n",
            "[114]\tvalidation_0-auc:0.724984\n",
            "[115]\tvalidation_0-auc:0.724906\n",
            "[116]\tvalidation_0-auc:0.72492\n",
            "[117]\tvalidation_0-auc:0.724878\n",
            "[118]\tvalidation_0-auc:0.724961\n",
            "[119]\tvalidation_0-auc:0.724875\n",
            "[120]\tvalidation_0-auc:0.724875\n",
            "[121]\tvalidation_0-auc:0.724834\n",
            "Stopping. Best iteration:\n",
            "[101]\tvalidation_0-auc:0.72526\n",
            "\n"
          ],
          "name": "stdout"
        },
        {
          "output_type": "execute_result",
          "data": {
            "text/plain": [
              "GridSearchCV(cv=3, error_score=nan,\n",
              "             estimator=XGBClassifier(base_score=0.6, booster='gbtree',\n",
              "                                     colsample_bylevel=1, colsample_bynode=1,\n",
              "                                     colsample_bytree=0.8, gamma=0.1,\n",
              "                                     learning_rate=0.1, max_delta_step=0,\n",
              "                                     max_depth=5, min_child_weight=1,\n",
              "                                     missing=None, n_estimators=1000, n_jobs=1,\n",
              "                                     nthread=4, objective='binary:logistic',\n",
              "                                     random_state=0, reg_alpha=0, reg_lambda=1,\n",
              "                                     scale_pos_weight=4.888718957104363,\n",
              "                                     seed=123, silent=None, subsample=0.8,\n",
              "                                     verbosity=1),\n",
              "             iid=False, n_jobs=4,\n",
              "             param_grid={'max_depth': [8, 10], 'min_child_weight': [3, 5]},\n",
              "             pre_dispatch='2*n_jobs', refit=True, return_train_score=False,\n",
              "             scoring='roc_auc', verbose=0)"
            ]
          },
          "metadata": {
            "tags": []
          },
          "execution_count": 71
        }
      ]
    },
    {
      "cell_type": "code",
      "metadata": {
        "id": "jgTgvetkP_Q4",
        "colab_type": "code",
        "colab": {
          "base_uri": "https://localhost:8080/",
          "height": 34
        },
        "outputId": "2e407e94-14eb-42a4-ef8b-ae47ebb6f59d"
      },
      "source": [
        "gsearch2.best_params_"
      ],
      "execution_count": null,
      "outputs": [
        {
          "output_type": "execute_result",
          "data": {
            "text/plain": [
              "{'max_depth': 8, 'min_child_weight': 3}"
            ]
          },
          "metadata": {
            "tags": []
          },
          "execution_count": 72
        }
      ]
    },
    {
      "cell_type": "markdown",
      "metadata": {
        "id": "JAUJZNIML0pK",
        "colab_type": "text"
      },
      "source": [
        "##Tune gamma"
      ]
    },
    {
      "cell_type": "code",
      "metadata": {
        "id": "1ctZ_QZ4MUTy",
        "colab_type": "code",
        "colab": {
          "base_uri": "https://localhost:8080/",
          "height": 1000
        },
        "outputId": "c0d099db-1290-4949-fcea-5e86ac9a868b"
      },
      "source": [
        "xgb_clf_2 = XGBClassifier(base_score=0.6, \n",
        "                        booster='gbtree',\n",
        "                        gamma=0.1,\n",
        "                        colsample_bytree=0.8,\n",
        "                        learning_rate=0.1, \n",
        "                        max_depth=8,\n",
        "                        min_child_weight=3, \n",
        "                        n_estimators=1000, \n",
        "                        nthread=4, \n",
        "                        objective='binary:logistic', \n",
        "                        random_state=0,\n",
        "                        reg_alpha=0, \n",
        "                        reg_lambda=1, \n",
        "                        scale_pos_weight=ratio,\n",
        "                        seed=123,  \n",
        "                        subsample=0.8, \n",
        "                        )\n",
        "param_test3 = {\n",
        " 'gamma':[0,1,3,5],\n",
        "}\n",
        "\n",
        "gsearch3 = GridSearchCV(estimator = xgb_clf_2, \n",
        "                        param_grid = param_test3,     \n",
        "                        scoring='roc_auc',\n",
        "                        n_jobs=4,\n",
        "                        iid=False, \n",
        "                        cv=3)\n",
        "\n",
        "gsearch3.fit(x_train, y_train, early_stopping_rounds=10,\n",
        "            eval_metric=\"auc\", eval_set=[(x_valid, y_valid)])"
      ],
      "execution_count": null,
      "outputs": [
        {
          "output_type": "stream",
          "text": [
            "/usr/local/lib/python3.6/dist-packages/sklearn/model_selection/_search.py:823: FutureWarning: The parameter 'iid' is deprecated in 0.22 and will be removed in 0.24.\n",
            "  \"removed in 0.24.\", FutureWarning\n"
          ],
          "name": "stderr"
        },
        {
          "output_type": "stream",
          "text": [
            "[0]\tvalidation_0-auc:0.685669\n",
            "Will train until validation_0-auc hasn't improved in 10 rounds.\n",
            "[1]\tvalidation_0-auc:0.698648\n",
            "[2]\tvalidation_0-auc:0.701317\n",
            "[3]\tvalidation_0-auc:0.707475\n",
            "[4]\tvalidation_0-auc:0.708943\n",
            "[5]\tvalidation_0-auc:0.711088\n",
            "[6]\tvalidation_0-auc:0.710666\n",
            "[7]\tvalidation_0-auc:0.710708\n",
            "[8]\tvalidation_0-auc:0.710916\n",
            "[9]\tvalidation_0-auc:0.711771\n",
            "[10]\tvalidation_0-auc:0.711735\n",
            "[11]\tvalidation_0-auc:0.712012\n",
            "[12]\tvalidation_0-auc:0.712428\n",
            "[13]\tvalidation_0-auc:0.712694\n",
            "[14]\tvalidation_0-auc:0.712814\n",
            "[15]\tvalidation_0-auc:0.713047\n",
            "[16]\tvalidation_0-auc:0.713374\n",
            "[17]\tvalidation_0-auc:0.714043\n",
            "[18]\tvalidation_0-auc:0.714347\n",
            "[19]\tvalidation_0-auc:0.714668\n",
            "[20]\tvalidation_0-auc:0.714721\n",
            "[21]\tvalidation_0-auc:0.715136\n",
            "[22]\tvalidation_0-auc:0.715662\n",
            "[23]\tvalidation_0-auc:0.715759\n",
            "[24]\tvalidation_0-auc:0.716429\n",
            "[25]\tvalidation_0-auc:0.716664\n",
            "[26]\tvalidation_0-auc:0.71712\n",
            "[27]\tvalidation_0-auc:0.717407\n",
            "[28]\tvalidation_0-auc:0.717771\n",
            "[29]\tvalidation_0-auc:0.71813\n",
            "[30]\tvalidation_0-auc:0.71875\n",
            "[31]\tvalidation_0-auc:0.719314\n",
            "[32]\tvalidation_0-auc:0.719589\n",
            "[33]\tvalidation_0-auc:0.719802\n",
            "[34]\tvalidation_0-auc:0.719994\n",
            "[35]\tvalidation_0-auc:0.720232\n",
            "[36]\tvalidation_0-auc:0.720399\n",
            "[37]\tvalidation_0-auc:0.720394\n",
            "[38]\tvalidation_0-auc:0.720437\n",
            "[39]\tvalidation_0-auc:0.720577\n",
            "[40]\tvalidation_0-auc:0.72117\n",
            "[41]\tvalidation_0-auc:0.721453\n",
            "[42]\tvalidation_0-auc:0.721688\n",
            "[43]\tvalidation_0-auc:0.721722\n",
            "[44]\tvalidation_0-auc:0.721766\n",
            "[45]\tvalidation_0-auc:0.721871\n",
            "[46]\tvalidation_0-auc:0.721988\n",
            "[47]\tvalidation_0-auc:0.721879\n",
            "[48]\tvalidation_0-auc:0.721982\n",
            "[49]\tvalidation_0-auc:0.721998\n",
            "[50]\tvalidation_0-auc:0.722031\n",
            "[51]\tvalidation_0-auc:0.721957\n",
            "[52]\tvalidation_0-auc:0.722003\n",
            "[53]\tvalidation_0-auc:0.722263\n",
            "[54]\tvalidation_0-auc:0.722406\n",
            "[55]\tvalidation_0-auc:0.722334\n",
            "[56]\tvalidation_0-auc:0.722332\n",
            "[57]\tvalidation_0-auc:0.722386\n",
            "[58]\tvalidation_0-auc:0.722665\n",
            "[59]\tvalidation_0-auc:0.722823\n",
            "[60]\tvalidation_0-auc:0.722827\n",
            "[61]\tvalidation_0-auc:0.722754\n",
            "[62]\tvalidation_0-auc:0.722806\n",
            "[63]\tvalidation_0-auc:0.722678\n",
            "[64]\tvalidation_0-auc:0.722628\n",
            "[65]\tvalidation_0-auc:0.722711\n",
            "[66]\tvalidation_0-auc:0.722906\n",
            "[67]\tvalidation_0-auc:0.722753\n",
            "[68]\tvalidation_0-auc:0.722687\n",
            "[69]\tvalidation_0-auc:0.722738\n",
            "[70]\tvalidation_0-auc:0.722717\n",
            "[71]\tvalidation_0-auc:0.722626\n",
            "[72]\tvalidation_0-auc:0.722618\n",
            "[73]\tvalidation_0-auc:0.722751\n",
            "[74]\tvalidation_0-auc:0.722735\n",
            "[75]\tvalidation_0-auc:0.722735\n",
            "[76]\tvalidation_0-auc:0.722689\n",
            "Stopping. Best iteration:\n",
            "[66]\tvalidation_0-auc:0.722906\n",
            "\n"
          ],
          "name": "stdout"
        },
        {
          "output_type": "execute_result",
          "data": {
            "text/plain": [
              "GridSearchCV(cv=3, error_score=nan,\n",
              "             estimator=XGBClassifier(base_score=0.6, booster='gbtree',\n",
              "                                     colsample_bylevel=1, colsample_bynode=1,\n",
              "                                     colsample_bytree=0.8, gamma=0.1,\n",
              "                                     learning_rate=0.1, max_delta_step=0,\n",
              "                                     max_depth=8, min_child_weight=3,\n",
              "                                     missing=None, n_estimators=1000, n_jobs=1,\n",
              "                                     nthread=4, objective='binary:logistic',\n",
              "                                     random_state=0, reg_alpha=0, reg_lambda=1,\n",
              "                                     scale_pos_weight=4.888718957104363,\n",
              "                                     seed=123, silent=None, subsample=0.8,\n",
              "                                     verbosity=1),\n",
              "             iid=False, n_jobs=4, param_grid={'gamma': [0, 1, 3, 5]},\n",
              "             pre_dispatch='2*n_jobs', refit=True, return_train_score=False,\n",
              "             scoring='roc_auc', verbose=0)"
            ]
          },
          "metadata": {
            "tags": []
          },
          "execution_count": 77
        }
      ]
    },
    {
      "cell_type": "code",
      "metadata": {
        "id": "_HbKjB6YR1GO",
        "colab_type": "code",
        "colab": {
          "base_uri": "https://localhost:8080/",
          "height": 34
        },
        "outputId": "13e14bff-8d8b-4987-c4a7-935dd129d636"
      },
      "source": [
        "gsearch3.best_params_"
      ],
      "execution_count": null,
      "outputs": [
        {
          "output_type": "execute_result",
          "data": {
            "text/plain": [
              "{'gamma': 0}"
            ]
          },
          "metadata": {
            "tags": []
          },
          "execution_count": 78
        }
      ]
    },
    {
      "cell_type": "markdown",
      "metadata": {
        "id": "mpnE7ZLVTWdf",
        "colab_type": "text"
      },
      "source": [
        "##Tune subsample and colsample_bytree"
      ]
    },
    {
      "cell_type": "code",
      "metadata": {
        "id": "ZTFZX-1-TbZy",
        "colab_type": "code",
        "colab": {
          "base_uri": "https://localhost:8080/",
          "height": 1000
        },
        "outputId": "fde295f0-e597-4d43-bef1-f1e20e932a78"
      },
      "source": [
        "xgb_clf_3 = XGBClassifier(base_score=0.6, \n",
        "                        booster='gbtree',\n",
        "                        gamma=0,\n",
        "                        colsample_bytree=0.8,\n",
        "                        learning_rate=0.1, \n",
        "                        max_depth=8,\n",
        "                        min_child_weight=3, \n",
        "                        n_estimators=1000, \n",
        "                        nthread=4, \n",
        "                        objective='binary:logistic', \n",
        "                        random_state=0,\n",
        "                        reg_alpha=0, \n",
        "                        reg_lambda=1, \n",
        "                        scale_pos_weight=ratio,\n",
        "                        seed=123,  \n",
        "                        subsample=0.8, \n",
        "                        )\n",
        "param_test4 = {\n",
        " 'subsample':[0.8,1],\n",
        " 'colsample_bytree':[0.8,1]\n",
        "}\n",
        "\n",
        "gsearch4 = GridSearchCV(estimator = xgb_clf_3, \n",
        "                        param_grid = param_test4,     \n",
        "                        scoring='roc_auc',\n",
        "                        n_jobs=4,\n",
        "                        iid=False, \n",
        "                        cv=3)\n",
        "\n",
        "gsearch4.fit(x_train, y_train, early_stopping_rounds=10,\n",
        "            eval_metric=\"auc\", eval_set=[(x_valid, y_valid)])"
      ],
      "execution_count": null,
      "outputs": [
        {
          "output_type": "stream",
          "text": [
            "/usr/local/lib/python3.6/dist-packages/sklearn/model_selection/_search.py:823: FutureWarning: The parameter 'iid' is deprecated in 0.22 and will be removed in 0.24.\n",
            "  \"removed in 0.24.\", FutureWarning\n"
          ],
          "name": "stderr"
        },
        {
          "output_type": "stream",
          "text": [
            "[0]\tvalidation_0-auc:0.685669\n",
            "Will train until validation_0-auc hasn't improved in 10 rounds.\n",
            "[1]\tvalidation_0-auc:0.698648\n",
            "[2]\tvalidation_0-auc:0.701317\n",
            "[3]\tvalidation_0-auc:0.707475\n",
            "[4]\tvalidation_0-auc:0.708943\n",
            "[5]\tvalidation_0-auc:0.711088\n",
            "[6]\tvalidation_0-auc:0.710666\n",
            "[7]\tvalidation_0-auc:0.710708\n",
            "[8]\tvalidation_0-auc:0.710916\n",
            "[9]\tvalidation_0-auc:0.711771\n",
            "[10]\tvalidation_0-auc:0.711735\n",
            "[11]\tvalidation_0-auc:0.712012\n",
            "[12]\tvalidation_0-auc:0.712428\n",
            "[13]\tvalidation_0-auc:0.712694\n",
            "[14]\tvalidation_0-auc:0.712814\n",
            "[15]\tvalidation_0-auc:0.713047\n",
            "[16]\tvalidation_0-auc:0.713374\n",
            "[17]\tvalidation_0-auc:0.714043\n",
            "[18]\tvalidation_0-auc:0.714347\n",
            "[19]\tvalidation_0-auc:0.714668\n",
            "[20]\tvalidation_0-auc:0.714721\n",
            "[21]\tvalidation_0-auc:0.715136\n",
            "[22]\tvalidation_0-auc:0.715662\n",
            "[23]\tvalidation_0-auc:0.715759\n",
            "[24]\tvalidation_0-auc:0.716429\n",
            "[25]\tvalidation_0-auc:0.716664\n",
            "[26]\tvalidation_0-auc:0.71712\n",
            "[27]\tvalidation_0-auc:0.717407\n",
            "[28]\tvalidation_0-auc:0.717771\n",
            "[29]\tvalidation_0-auc:0.71813\n",
            "[30]\tvalidation_0-auc:0.71875\n",
            "[31]\tvalidation_0-auc:0.719314\n",
            "[32]\tvalidation_0-auc:0.719589\n",
            "[33]\tvalidation_0-auc:0.719802\n",
            "[34]\tvalidation_0-auc:0.719994\n",
            "[35]\tvalidation_0-auc:0.720232\n",
            "[36]\tvalidation_0-auc:0.720399\n",
            "[37]\tvalidation_0-auc:0.720394\n",
            "[38]\tvalidation_0-auc:0.720437\n",
            "[39]\tvalidation_0-auc:0.720577\n",
            "[40]\tvalidation_0-auc:0.72117\n",
            "[41]\tvalidation_0-auc:0.721453\n",
            "[42]\tvalidation_0-auc:0.721688\n",
            "[43]\tvalidation_0-auc:0.721722\n",
            "[44]\tvalidation_0-auc:0.721766\n",
            "[45]\tvalidation_0-auc:0.721871\n",
            "[46]\tvalidation_0-auc:0.721988\n",
            "[47]\tvalidation_0-auc:0.721879\n",
            "[48]\tvalidation_0-auc:0.721982\n",
            "[49]\tvalidation_0-auc:0.721998\n",
            "[50]\tvalidation_0-auc:0.722031\n",
            "[51]\tvalidation_0-auc:0.721957\n",
            "[52]\tvalidation_0-auc:0.722003\n",
            "[53]\tvalidation_0-auc:0.722263\n",
            "[54]\tvalidation_0-auc:0.722406\n",
            "[55]\tvalidation_0-auc:0.722334\n",
            "[56]\tvalidation_0-auc:0.722332\n",
            "[57]\tvalidation_0-auc:0.722386\n",
            "[58]\tvalidation_0-auc:0.722665\n",
            "[59]\tvalidation_0-auc:0.722823\n",
            "[60]\tvalidation_0-auc:0.722827\n",
            "[61]\tvalidation_0-auc:0.722754\n",
            "[62]\tvalidation_0-auc:0.722806\n",
            "[63]\tvalidation_0-auc:0.722678\n",
            "[64]\tvalidation_0-auc:0.722628\n",
            "[65]\tvalidation_0-auc:0.722711\n",
            "[66]\tvalidation_0-auc:0.722906\n",
            "[67]\tvalidation_0-auc:0.722753\n",
            "[68]\tvalidation_0-auc:0.722687\n",
            "[69]\tvalidation_0-auc:0.722738\n",
            "[70]\tvalidation_0-auc:0.722717\n",
            "[71]\tvalidation_0-auc:0.722626\n",
            "[72]\tvalidation_0-auc:0.722618\n",
            "[73]\tvalidation_0-auc:0.722751\n",
            "[74]\tvalidation_0-auc:0.722735\n",
            "[75]\tvalidation_0-auc:0.722735\n",
            "[76]\tvalidation_0-auc:0.722689\n",
            "Stopping. Best iteration:\n",
            "[66]\tvalidation_0-auc:0.722906\n",
            "\n"
          ],
          "name": "stdout"
        },
        {
          "output_type": "execute_result",
          "data": {
            "text/plain": [
              "GridSearchCV(cv=3, error_score=nan,\n",
              "             estimator=XGBClassifier(base_score=0.6, booster='gbtree',\n",
              "                                     colsample_bylevel=1, colsample_bynode=1,\n",
              "                                     colsample_bytree=0.8, gamma=0,\n",
              "                                     learning_rate=0.1, max_delta_step=0,\n",
              "                                     max_depth=8, min_child_weight=3,\n",
              "                                     missing=None, n_estimators=1000, n_jobs=1,\n",
              "                                     nthread=4, objective='binary:logistic',\n",
              "                                     random_state=0, reg_alpha=0, reg_lambda=1,\n",
              "                                     scale_pos_weight=4.888718957104363,\n",
              "                                     seed=123, silent=None, subsample=0.8,\n",
              "                                     verbosity=1),\n",
              "             iid=False, n_jobs=4,\n",
              "             param_grid={'colsample_bytree': [0.8, 1], 'subsample': [0.8, 1]},\n",
              "             pre_dispatch='2*n_jobs', refit=True, return_train_score=False,\n",
              "             scoring='roc_auc', verbose=0)"
            ]
          },
          "metadata": {
            "tags": []
          },
          "execution_count": 79
        }
      ]
    },
    {
      "cell_type": "code",
      "metadata": {
        "id": "WsbV9LZZWhT2",
        "colab_type": "code",
        "colab": {
          "base_uri": "https://localhost:8080/",
          "height": 34
        },
        "outputId": "47317b13-578e-4de2-f9b7-a4e844ee94a1"
      },
      "source": [
        "gsearch4.best_params_"
      ],
      "execution_count": null,
      "outputs": [
        {
          "output_type": "execute_result",
          "data": {
            "text/plain": [
              "{'colsample_bytree': 0.8, 'subsample': 0.8}"
            ]
          },
          "metadata": {
            "tags": []
          },
          "execution_count": 80
        }
      ]
    },
    {
      "cell_type": "markdown",
      "metadata": {
        "id": "5lTL3CATVUnQ",
        "colab_type": "text"
      },
      "source": [
        "##Tune regularization term: reg_alpha"
      ]
    },
    {
      "cell_type": "code",
      "metadata": {
        "id": "M7l0dcEIVQnK",
        "colab_type": "code",
        "colab": {
          "base_uri": "https://localhost:8080/",
          "height": 1000
        },
        "outputId": "48636bfc-ff5f-4af1-c0bb-0830f838e177"
      },
      "source": [
        "xgb_clf_4 = XGBClassifier(base_score=0.6, \n",
        "                        booster='gbtree',\n",
        "                        gamma=0,\n",
        "                        colsample_bytree=0.8,\n",
        "                        learning_rate=0.1, \n",
        "                        max_depth=8,\n",
        "                        min_child_weight=3, \n",
        "                        n_estimators=1000, \n",
        "                        nthread=4, \n",
        "                        objective='binary:logistic', \n",
        "                        random_state=0,\n",
        "                        reg_alpha=0, \n",
        "                        reg_lambda=1, \n",
        "                        scale_pos_weight=ratio,\n",
        "                        seed=123,  \n",
        "                        subsample=0.8, \n",
        "                        )\n",
        "param_test5 = {\n",
        " 'reg_alpa':[0,0.01,0.1,1],\n",
        "}\n",
        "\n",
        "gsearch5 = GridSearchCV(estimator = xgb_clf_4, \n",
        "                        param_grid = param_test5,     \n",
        "                        scoring='roc_auc',\n",
        "                        n_jobs=4,\n",
        "                        iid=False, \n",
        "                        cv=3)\n",
        "\n",
        "gsearch5.fit(x_train, y_train, early_stopping_rounds=10,\n",
        "            eval_metric=\"auc\", eval_set=[(x_valid, y_valid)])"
      ],
      "execution_count": null,
      "outputs": [
        {
          "output_type": "stream",
          "text": [
            "/usr/local/lib/python3.6/dist-packages/sklearn/model_selection/_search.py:823: FutureWarning: The parameter 'iid' is deprecated in 0.22 and will be removed in 0.24.\n",
            "  \"removed in 0.24.\", FutureWarning\n"
          ],
          "name": "stderr"
        },
        {
          "output_type": "stream",
          "text": [
            "[0]\tvalidation_0-auc:0.685669\n",
            "Will train until validation_0-auc hasn't improved in 10 rounds.\n",
            "[1]\tvalidation_0-auc:0.698648\n",
            "[2]\tvalidation_0-auc:0.701317\n",
            "[3]\tvalidation_0-auc:0.707475\n",
            "[4]\tvalidation_0-auc:0.708943\n",
            "[5]\tvalidation_0-auc:0.711088\n",
            "[6]\tvalidation_0-auc:0.710666\n",
            "[7]\tvalidation_0-auc:0.710708\n",
            "[8]\tvalidation_0-auc:0.710916\n",
            "[9]\tvalidation_0-auc:0.711771\n",
            "[10]\tvalidation_0-auc:0.711735\n",
            "[11]\tvalidation_0-auc:0.712012\n",
            "[12]\tvalidation_0-auc:0.712428\n",
            "[13]\tvalidation_0-auc:0.712694\n",
            "[14]\tvalidation_0-auc:0.712814\n",
            "[15]\tvalidation_0-auc:0.713047\n",
            "[16]\tvalidation_0-auc:0.713374\n",
            "[17]\tvalidation_0-auc:0.714043\n",
            "[18]\tvalidation_0-auc:0.714347\n",
            "[19]\tvalidation_0-auc:0.714668\n",
            "[20]\tvalidation_0-auc:0.714721\n",
            "[21]\tvalidation_0-auc:0.715136\n",
            "[22]\tvalidation_0-auc:0.715662\n",
            "[23]\tvalidation_0-auc:0.715759\n",
            "[24]\tvalidation_0-auc:0.716429\n",
            "[25]\tvalidation_0-auc:0.716664\n",
            "[26]\tvalidation_0-auc:0.71712\n",
            "[27]\tvalidation_0-auc:0.717407\n",
            "[28]\tvalidation_0-auc:0.717771\n",
            "[29]\tvalidation_0-auc:0.71813\n",
            "[30]\tvalidation_0-auc:0.71875\n",
            "[31]\tvalidation_0-auc:0.719314\n",
            "[32]\tvalidation_0-auc:0.719589\n",
            "[33]\tvalidation_0-auc:0.719802\n",
            "[34]\tvalidation_0-auc:0.719994\n",
            "[35]\tvalidation_0-auc:0.720232\n",
            "[36]\tvalidation_0-auc:0.720399\n",
            "[37]\tvalidation_0-auc:0.720394\n",
            "[38]\tvalidation_0-auc:0.720437\n",
            "[39]\tvalidation_0-auc:0.720577\n",
            "[40]\tvalidation_0-auc:0.72117\n",
            "[41]\tvalidation_0-auc:0.721453\n",
            "[42]\tvalidation_0-auc:0.721688\n",
            "[43]\tvalidation_0-auc:0.721722\n",
            "[44]\tvalidation_0-auc:0.721766\n",
            "[45]\tvalidation_0-auc:0.721871\n",
            "[46]\tvalidation_0-auc:0.721988\n",
            "[47]\tvalidation_0-auc:0.721879\n",
            "[48]\tvalidation_0-auc:0.721982\n",
            "[49]\tvalidation_0-auc:0.721998\n",
            "[50]\tvalidation_0-auc:0.722031\n",
            "[51]\tvalidation_0-auc:0.721957\n",
            "[52]\tvalidation_0-auc:0.722003\n",
            "[53]\tvalidation_0-auc:0.722263\n",
            "[54]\tvalidation_0-auc:0.722406\n",
            "[55]\tvalidation_0-auc:0.722334\n",
            "[56]\tvalidation_0-auc:0.722332\n",
            "[57]\tvalidation_0-auc:0.722386\n",
            "[58]\tvalidation_0-auc:0.722665\n",
            "[59]\tvalidation_0-auc:0.722823\n",
            "[60]\tvalidation_0-auc:0.722827\n",
            "[61]\tvalidation_0-auc:0.722754\n",
            "[62]\tvalidation_0-auc:0.722806\n",
            "[63]\tvalidation_0-auc:0.722678\n",
            "[64]\tvalidation_0-auc:0.722628\n",
            "[65]\tvalidation_0-auc:0.722711\n",
            "[66]\tvalidation_0-auc:0.722906\n",
            "[67]\tvalidation_0-auc:0.722753\n",
            "[68]\tvalidation_0-auc:0.722687\n",
            "[69]\tvalidation_0-auc:0.722738\n",
            "[70]\tvalidation_0-auc:0.722717\n",
            "[71]\tvalidation_0-auc:0.722626\n",
            "[72]\tvalidation_0-auc:0.722618\n",
            "[73]\tvalidation_0-auc:0.722751\n",
            "[74]\tvalidation_0-auc:0.722735\n",
            "[75]\tvalidation_0-auc:0.722735\n",
            "[76]\tvalidation_0-auc:0.722689\n",
            "Stopping. Best iteration:\n",
            "[66]\tvalidation_0-auc:0.722906\n",
            "\n"
          ],
          "name": "stdout"
        },
        {
          "output_type": "execute_result",
          "data": {
            "text/plain": [
              "GridSearchCV(cv=3, error_score=nan,\n",
              "             estimator=XGBClassifier(base_score=0.6, booster='gbtree',\n",
              "                                     colsample_bylevel=1, colsample_bynode=1,\n",
              "                                     colsample_bytree=0.8, gamma=0,\n",
              "                                     learning_rate=0.1, max_delta_step=0,\n",
              "                                     max_depth=8, min_child_weight=3,\n",
              "                                     missing=None, n_estimators=1000, n_jobs=1,\n",
              "                                     nthread=4, objective='binary:logistic',\n",
              "                                     random_state=0, reg_alpha=0, reg_lambda=1,\n",
              "                                     scale_pos_weight=4.888718957104363,\n",
              "                                     seed=123, silent=None, subsample=0.8,\n",
              "                                     verbosity=1),\n",
              "             iid=False, n_jobs=4, param_grid={'reg_alpa': [0, 0.01, 0.1, 1]},\n",
              "             pre_dispatch='2*n_jobs', refit=True, return_train_score=False,\n",
              "             scoring='roc_auc', verbose=0)"
            ]
          },
          "metadata": {
            "tags": []
          },
          "execution_count": 81
        }
      ]
    },
    {
      "cell_type": "code",
      "metadata": {
        "id": "eTWYSaMLW0ip",
        "colab_type": "code",
        "colab": {
          "base_uri": "https://localhost:8080/",
          "height": 34
        },
        "outputId": "3a2c15a0-cfce-4237-daa3-3d16d28f98bf"
      },
      "source": [
        "gsearch5.best_params_"
      ],
      "execution_count": null,
      "outputs": [
        {
          "output_type": "execute_result",
          "data": {
            "text/plain": [
              "{'reg_alpa': 0}"
            ]
          },
          "metadata": {
            "tags": []
          },
          "execution_count": 82
        }
      ]
    },
    {
      "cell_type": "markdown",
      "metadata": {
        "id": "zPDztrelWF3X",
        "colab_type": "text"
      },
      "source": [
        "##Tune scale_pos_weight"
      ]
    },
    {
      "cell_type": "code",
      "metadata": {
        "id": "2uwWPZwsWHHG",
        "colab_type": "code",
        "colab": {
          "base_uri": "https://localhost:8080/",
          "height": 1000
        },
        "outputId": "f730009d-2186-4a26-f2cd-f1108c373779"
      },
      "source": [
        "xgb_clf_5 = XGBClassifier(base_score=0.6, \n",
        "                        booster='gbtree',\n",
        "                        gamma=0,\n",
        "                        colsample_bytree=0.8,\n",
        "                        learning_rate=0.1, \n",
        "                        max_depth=8,\n",
        "                        min_child_weight=3, \n",
        "                        n_estimators=1000, \n",
        "                        nthread=4, \n",
        "                        objective='binary:logistic', \n",
        "                        random_state=0,\n",
        "                        reg_alpha=0, \n",
        "                        reg_lambda=1, \n",
        "                        seed=123,  \n",
        "                        subsample=0.8, \n",
        "                        )\n",
        "param_test6 = {\n",
        " 'scale_pos_weight':[1,2,3,ratio],\n",
        "}\n",
        "\n",
        "gsearch6 = GridSearchCV(estimator = xgb_clf_5, \n",
        "                        param_grid = param_test6,     \n",
        "                        scoring='roc_auc',\n",
        "                        n_jobs=4,\n",
        "                        iid=False, \n",
        "                        cv=3)\n",
        "\n",
        "gsearch6.fit(x_train, y_train, early_stopping_rounds=10,\n",
        "            eval_metric=\"auc\", eval_set=[(x_valid, y_valid)])"
      ],
      "execution_count": null,
      "outputs": [
        {
          "output_type": "stream",
          "text": [
            "/usr/local/lib/python3.6/dist-packages/sklearn/model_selection/_search.py:823: FutureWarning: The parameter 'iid' is deprecated in 0.22 and will be removed in 0.24.\n",
            "  \"removed in 0.24.\", FutureWarning\n"
          ],
          "name": "stderr"
        },
        {
          "output_type": "stream",
          "text": [
            "[0]\tvalidation_0-auc:0.692199\n",
            "Will train until validation_0-auc hasn't improved in 10 rounds.\n",
            "[1]\tvalidation_0-auc:0.700611\n",
            "[2]\tvalidation_0-auc:0.706875\n",
            "[3]\tvalidation_0-auc:0.708878\n",
            "[4]\tvalidation_0-auc:0.709537\n",
            "[5]\tvalidation_0-auc:0.71169\n",
            "[6]\tvalidation_0-auc:0.711912\n",
            "[7]\tvalidation_0-auc:0.712501\n",
            "[8]\tvalidation_0-auc:0.712955\n",
            "[9]\tvalidation_0-auc:0.713429\n",
            "[10]\tvalidation_0-auc:0.713505\n",
            "[11]\tvalidation_0-auc:0.713764\n",
            "[12]\tvalidation_0-auc:0.714128\n",
            "[13]\tvalidation_0-auc:0.714413\n",
            "[14]\tvalidation_0-auc:0.714826\n",
            "[15]\tvalidation_0-auc:0.715044\n",
            "[16]\tvalidation_0-auc:0.715338\n",
            "[17]\tvalidation_0-auc:0.715422\n",
            "[18]\tvalidation_0-auc:0.71546\n",
            "[19]\tvalidation_0-auc:0.715722\n",
            "[20]\tvalidation_0-auc:0.715522\n",
            "[21]\tvalidation_0-auc:0.715742\n",
            "[22]\tvalidation_0-auc:0.716294\n",
            "[23]\tvalidation_0-auc:0.716864\n",
            "[24]\tvalidation_0-auc:0.717436\n",
            "[25]\tvalidation_0-auc:0.717834\n",
            "[26]\tvalidation_0-auc:0.718232\n",
            "[27]\tvalidation_0-auc:0.718522\n",
            "[28]\tvalidation_0-auc:0.718378\n",
            "[29]\tvalidation_0-auc:0.718506\n",
            "[30]\tvalidation_0-auc:0.718764\n",
            "[31]\tvalidation_0-auc:0.718896\n",
            "[32]\tvalidation_0-auc:0.719242\n",
            "[33]\tvalidation_0-auc:0.719228\n",
            "[34]\tvalidation_0-auc:0.719416\n",
            "[35]\tvalidation_0-auc:0.719479\n",
            "[36]\tvalidation_0-auc:0.719888\n",
            "[37]\tvalidation_0-auc:0.720107\n",
            "[38]\tvalidation_0-auc:0.720542\n",
            "[39]\tvalidation_0-auc:0.720821\n",
            "[40]\tvalidation_0-auc:0.720898\n",
            "[41]\tvalidation_0-auc:0.721208\n",
            "[42]\tvalidation_0-auc:0.721762\n",
            "[43]\tvalidation_0-auc:0.722337\n",
            "[44]\tvalidation_0-auc:0.722402\n",
            "[45]\tvalidation_0-auc:0.722477\n",
            "[46]\tvalidation_0-auc:0.722506\n",
            "[47]\tvalidation_0-auc:0.722537\n",
            "[48]\tvalidation_0-auc:0.722686\n",
            "[49]\tvalidation_0-auc:0.723021\n",
            "[50]\tvalidation_0-auc:0.723027\n",
            "[51]\tvalidation_0-auc:0.723016\n",
            "[52]\tvalidation_0-auc:0.722953\n",
            "[53]\tvalidation_0-auc:0.722991\n",
            "[54]\tvalidation_0-auc:0.723199\n",
            "[55]\tvalidation_0-auc:0.723308\n",
            "[56]\tvalidation_0-auc:0.723394\n",
            "[57]\tvalidation_0-auc:0.72348\n",
            "[58]\tvalidation_0-auc:0.723666\n",
            "[59]\tvalidation_0-auc:0.723755\n",
            "[60]\tvalidation_0-auc:0.723644\n",
            "[61]\tvalidation_0-auc:0.724029\n",
            "[62]\tvalidation_0-auc:0.724249\n",
            "[63]\tvalidation_0-auc:0.724267\n",
            "[64]\tvalidation_0-auc:0.724489\n",
            "[65]\tvalidation_0-auc:0.724536\n",
            "[66]\tvalidation_0-auc:0.724682\n",
            "[67]\tvalidation_0-auc:0.724747\n",
            "[68]\tvalidation_0-auc:0.724666\n",
            "[69]\tvalidation_0-auc:0.724747\n",
            "[70]\tvalidation_0-auc:0.724859\n",
            "[71]\tvalidation_0-auc:0.724804\n",
            "[72]\tvalidation_0-auc:0.724886\n",
            "[73]\tvalidation_0-auc:0.725016\n",
            "[74]\tvalidation_0-auc:0.72515\n",
            "[75]\tvalidation_0-auc:0.72529\n",
            "[76]\tvalidation_0-auc:0.725205\n",
            "[77]\tvalidation_0-auc:0.725326\n",
            "[78]\tvalidation_0-auc:0.725319\n",
            "[79]\tvalidation_0-auc:0.725373\n",
            "[80]\tvalidation_0-auc:0.72533\n",
            "[81]\tvalidation_0-auc:0.725525\n",
            "[82]\tvalidation_0-auc:0.725546\n",
            "[83]\tvalidation_0-auc:0.725623\n",
            "[84]\tvalidation_0-auc:0.725574\n",
            "[85]\tvalidation_0-auc:0.725625\n",
            "[86]\tvalidation_0-auc:0.725674\n",
            "[87]\tvalidation_0-auc:0.72572\n",
            "[88]\tvalidation_0-auc:0.725756\n",
            "[89]\tvalidation_0-auc:0.725878\n",
            "[90]\tvalidation_0-auc:0.725948\n",
            "[91]\tvalidation_0-auc:0.726056\n",
            "[92]\tvalidation_0-auc:0.726054\n",
            "[93]\tvalidation_0-auc:0.725894\n",
            "[94]\tvalidation_0-auc:0.725824\n",
            "[95]\tvalidation_0-auc:0.725795\n",
            "[96]\tvalidation_0-auc:0.725858\n",
            "[97]\tvalidation_0-auc:0.725812\n",
            "[98]\tvalidation_0-auc:0.725834\n",
            "[99]\tvalidation_0-auc:0.726025\n",
            "[100]\tvalidation_0-auc:0.726213\n",
            "[101]\tvalidation_0-auc:0.72626\n",
            "[102]\tvalidation_0-auc:0.726287\n",
            "[103]\tvalidation_0-auc:0.726366\n",
            "[104]\tvalidation_0-auc:0.726306\n",
            "[105]\tvalidation_0-auc:0.726242\n",
            "[106]\tvalidation_0-auc:0.726223\n",
            "[107]\tvalidation_0-auc:0.726234\n",
            "[108]\tvalidation_0-auc:0.726258\n",
            "[109]\tvalidation_0-auc:0.726308\n",
            "[110]\tvalidation_0-auc:0.726257\n",
            "[111]\tvalidation_0-auc:0.726261\n",
            "[112]\tvalidation_0-auc:0.726317\n",
            "[113]\tvalidation_0-auc:0.726244\n",
            "Stopping. Best iteration:\n",
            "[103]\tvalidation_0-auc:0.726366\n",
            "\n"
          ],
          "name": "stdout"
        },
        {
          "output_type": "execute_result",
          "data": {
            "text/plain": [
              "GridSearchCV(cv=3, error_score=nan,\n",
              "             estimator=XGBClassifier(base_score=0.6, booster='gbtree',\n",
              "                                     colsample_bylevel=1, colsample_bynode=1,\n",
              "                                     colsample_bytree=0.8, gamma=0,\n",
              "                                     learning_rate=0.1, max_delta_step=0,\n",
              "                                     max_depth=8, min_child_weight=3,\n",
              "                                     missing=None, n_estimators=1000, n_jobs=1,\n",
              "                                     nthread=4, objective='binary:logistic',\n",
              "                                     random_state=0, reg_alpha=0, reg_lambda=1,\n",
              "                                     scale_pos_weight=1, seed=123, silent=None,\n",
              "                                     subsample=0.8, verbosity=1),\n",
              "             iid=False, n_jobs=4,\n",
              "             param_grid={'scale_pos_weight': [1, 2, 3, 4.888718957104363]},\n",
              "             pre_dispatch='2*n_jobs', refit=True, return_train_score=False,\n",
              "             scoring='roc_auc', verbose=0)"
            ]
          },
          "metadata": {
            "tags": []
          },
          "execution_count": 83
        }
      ]
    },
    {
      "cell_type": "code",
      "metadata": {
        "id": "7CqMy-BSW8N_",
        "colab_type": "code",
        "colab": {
          "base_uri": "https://localhost:8080/",
          "height": 34
        },
        "outputId": "3d8f81da-d1bf-4bca-9c91-88e070104140"
      },
      "source": [
        "gsearch6.best_params_"
      ],
      "execution_count": null,
      "outputs": [
        {
          "output_type": "execute_result",
          "data": {
            "text/plain": [
              "{'scale_pos_weight': 1}"
            ]
          },
          "metadata": {
            "tags": []
          },
          "execution_count": 84
        }
      ]
    },
    {
      "cell_type": "code",
      "metadata": {
        "id": "jug6qKVvrjgY",
        "colab_type": "code",
        "colab": {
          "base_uri": "https://localhost:8080/",
          "height": 840
        },
        "outputId": "2e023e0a-6519-4868-c7a9-ae5c0c1b82e1"
      },
      "source": [
        "#Evaluate the model with best parameters\n",
        "model_evaluation(gsearch6)"
      ],
      "execution_count": null,
      "outputs": [
        {
          "output_type": "stream",
          "text": [
            "              precision    recall  f1-score   support\n",
            "\n",
            "           0       0.84      0.99      0.91    100712\n",
            "           1       0.60      0.06      0.12     20575\n",
            "\n",
            "    accuracy                           0.83    121287\n",
            "   macro avg       0.72      0.53      0.51    121287\n",
            "weighted avg       0.80      0.83      0.77    121287\n",
            "\n",
            "Confusion matrix, without normalization\n",
            "[[99826   886]\n",
            " [19254  1321]]\n",
            "Normalized confusion matrix\n",
            "[[0.99120264 0.00879736]\n",
            " [0.93579587 0.06420413]]\n"
          ],
          "name": "stdout"
        },
        {
          "output_type": "display_data",
          "data": {
            "image/png": "[encoded data removed]",
            "text/plain": [
              "<Figure size 432x288 with 2 Axes>"
            ]
          },
          "metadata": {
            "tags": [],
            "needs_background": "light"
          }
        },
        {
          "output_type": "display_data",
          "data": {
            "image/png": "[encoded data removed]",
            "text/plain": [
              "<Figure size 432x288 with 2 Axes>"
            ]
          },
          "metadata": {
            "tags": [],
            "needs_background": "light"
          }
        }
      ]
    },
    {
      "cell_type": "markdown",
      "metadata": {
        "id": "ZfvTzEOhs6W3",
        "colab_type": "text"
      },
      "source": [
        "Althoug the ovearll model performance measured by AUC is high, the precision and recall of predicting positive label are pretty low. Since the dataset is very imbalanced, we will set the scale_pos_weight back to the ratio (negative count/positive count) to maintain the model performace of predicting both positive and negative labels.<br>\n",
        "This makes a lot sense if we think the problem this way: we would love to find the ads that can generate high CTR to increase our total revenue, if the model is bad at predicting the positive clicks, we will potentially be losing great business."
      ]
    },
    {
      "cell_type": "code",
      "metadata": {
        "id": "Vgc-BmXcuB9h",
        "colab_type": "code",
        "colab": {
          "base_uri": "https://localhost:8080/",
          "height": 840
        },
        "outputId": "f329b270-d91f-4b60-f428-d0ea1ec56912"
      },
      "source": [
        "#The best model\n",
        "xgb_best = gsearch5\n",
        "model_evaluation(xgb_best)"
      ],
      "execution_count": null,
      "outputs": [
        {
          "output_type": "stream",
          "text": [
            "              precision    recall  f1-score   support\n",
            "\n",
            "           0       0.92      0.62      0.74    100712\n",
            "           1       0.28      0.72      0.40     20575\n",
            "\n",
            "    accuracy                           0.64    121287\n",
            "   macro avg       0.60      0.67      0.57    121287\n",
            "weighted avg       0.81      0.64      0.68    121287\n",
            "\n",
            "Confusion matrix, without normalization\n",
            "[[62762 37950]\n",
            " [ 5764 14811]]\n",
            "Normalized confusion matrix\n",
            "[[0.62318294 0.37681706]\n",
            " [0.28014581 0.71985419]]\n"
          ],
          "name": "stdout"
        },
        {
          "output_type": "display_data",
          "data": {
            "image/png": "[encoded data removed]",
            "text/plain": [
              "<Figure size 432x288 with 2 Axes>"
            ]
          },
          "metadata": {
            "tags": [],
            "needs_background": "light"
          }
        },
        {
          "output_type": "display_data",
          "data": {
            "image/png": "[encoded data removed]",
            "text/plain": [
              "<Figure size 432x288 with 2 Axes>"
            ]
          },
          "metadata": {
            "tags": [],
            "needs_background": "light"
          }
        }
      ]
    },
    {
      "cell_type": "markdown",
      "metadata": {
        "id": "JWVUrFHeuNBw",
        "colab_type": "text"
      },
      "source": [
        "Based on confusion matrix, the model will be able recognize 72% of the ads that generates clicks, and 62% ads that can not generate clicks."
      ]
    }
  ]
}